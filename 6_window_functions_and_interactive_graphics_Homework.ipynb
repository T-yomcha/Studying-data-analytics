{
 "cells": [
  {
   "cell_type": "markdown",
   "metadata": {},
   "source": [
    "# Проект урока 6. Оконные функции и интерактивные графики\n",
    "#  «Анализ средних цен на авокадо»"
   ]
  },
  {
   "cell_type": "markdown",
   "metadata": {},
   "source": [
    "## Шаг 1"
   ]
  },
  {
   "cell_type": "markdown",
   "metadata": {},
   "source": [
    "Представьте, что вы — аналитик в агентстве, специализирующемся на изучении рынка продуктов питания. Вам поручено исследовать тренды цен на авокадо и проанализировать средние значения. Для этого у вас есть данные от Hass Avocado Board:\n",
    "\n",
    "- Date — дата  \n",
    "- AveragePrice — средняя цена одного авокадо  \n",
    "- Total Volume — количество проданных авокадо  \n",
    "- 4046 — количество проданных авокадо PLU 4046 (PLU — код товара, Product Lookup code)  \n",
    "- 4225 — количество проданных авокадо PLU 4225  \n",
    "- 4770 — количество проданных авокадо PLU 4770  \n",
    "- Total Bags — всего упаковок  \n",
    "- Small Bags — маленькие упаковки  \n",
    "- Large Bags — большие  \n",
    "- XLarge Bags — очень большие  \n",
    "- type — обычный или органический  \n",
    "- year — год  \n",
    "- Region — город или регион the city or region of the observation  \n",
    "\n",
    "В датафрейме находятся данные не за каждый день, а за конец каждой недели. Для каждой даты есть несколько наблюдений, отличающихся по типу авокадо и региону продажи. "
   ]
  },
  {
   "cell_type": "markdown",
   "metadata": {},
   "source": [
    "Вы можете решать задания тем способом, который считаете наиболее удобным или оптимальным. А для того, чтобы лучше понять задание, следуйте по шагам выполнения. Бывает, что их можно выполнить в одну строчку, применяя методы друг за другом. А если выполняете шаги отдельно, не забудьте сохранить результат в переменную, чтобы на следующем шаге работать именно с ней.\n",
    "\n",
    "В ноутбуке место для вашего решения обозначено комментарием `# Ваш код здесь`, но вы можете писать код там, где вам удобно, добавлять или удалять ячейки с кодом или текстом по вашему усмотрению.\n",
    "\n",
    "Кроме того можно посмотреть подсказки, кликнув на строчку `► Нажмите сюда, чтобы увидеть подсказку`. Также не забывайте о наличии конспектов и возможности задать вопрос в Discord, ссылка на нужный тред есть на странице каждого шага в LMS"
   ]
  },
  {
   "cell_type": "markdown",
   "metadata": {},
   "source": [
    "## Шаг 2"
   ]
  },
  {
   "cell_type": "markdown",
   "metadata": {},
   "source": [
    "Для начала нас будут интересовать общие данные, без разбивки по типам авокадо и регионам. Прочитайте данные и сохраните датафрейм в переменную `avocado_full`. **Для каждой даты посчитайте усредненное значение средних цен на авокадо (см.колонку `AveragePrice`).** Сохраните результат в переменную `avocado_mean`.\n",
    "\n",
    "**Какое усредненное значение цены получилось в первой строчке, за 4 января 2015 года?** Округлять результат не нужно. В качестве разделителя дробной части используйте точку."
   ]
  },
  {
   "cell_type": "markdown",
   "metadata": {},
   "source": [
    "Шаги выполнения:  \n",
    "1. Импортируйте библиотеку pandas"
   ]
  },
  {
   "cell_type": "markdown",
   "metadata": {},
   "source": [
    "<details>\n",
    "<summary>&#9658; Нажмите сюда, чтобы увидеть подсказку</summary>\n",
    "  <p>\n",
    "      \n",
    "Для импорта библиотеки напишите\n",
    "```python\n",
    "import library as shortcut\n",
    "```\n",
    "где вместо `library` подставьте название библиотеки, а вместо `shortcut` - её общераспространённое сокращённое название\n",
    "</p>\n",
    "</details>"
   ]
  },
  {
   "cell_type": "code",
   "metadata": {
    "ExecuteTime": {
     "end_time": "2024-12-23T18:10:29.857381Z",
     "start_time": "2024-12-23T18:10:29.852617Z"
    }
   },
   "source": [
    "import pandas as pd\n",
    "\n"
   ],
   "outputs": [],
   "execution_count": 2
  },
  {
   "cell_type": "markdown",
   "metadata": {},
   "source": [
    "2. Загрузите csv файл к уроку в свою папку в JupyterНub\n",
    "3. Прочитайте этот датасет, сохранив результат в переменную `avocado_full`. Укажите, что колонку `Date` нужно прочитать как дату"
   ]
  },
  {
   "cell_type": "markdown",
   "metadata": {},
   "source": [
    "<details>\n",
    "<summary>&#9658; Нажмите сюда, чтобы увидеть подсказку</summary>\n",
    "  <p>\n",
    "      \n",
    "Данные находятся в файле формата CSV. Для их загрузки воспользуемся функцией `pd.read_csv()`, передав в качестве аргумента путь к файлу. В параметр `parse_dates` передайте список, содержащий название единственной колонки - `Date`. Например,\n",
    "```python\n",
    "df = pd.read_csv('data.csv', parse_dates=['col_date'])\n",
    "```\n",
    "считает файл `data.csv`, хранящийся в той же папке, что и юпитер ноутбук, в котором вы сейчас работаете. В колонке `col_date` тип данных будет datetime\n",
    "</p>\n",
    "</details>"
   ]
  },
  {
   "cell_type": "code",
   "metadata": {
    "ExecuteTime": {
     "end_time": "2024-12-23T18:10:29.996986Z",
     "start_time": "2024-12-23T18:10:29.916152Z"
    }
   },
   "source": [
    "avocado_full = pd.read_csv('data/avocado_full.csv', parse_dates=['Date'])\n",
    "avocado_full.dtypes\n"
   ],
   "outputs": [
    {
     "data": {
      "text/plain": [
       "Date            datetime64[ns]\n",
       "AveragePrice           float64\n",
       "Total Volume           float64\n",
       "4046                   float64\n",
       "4225                   float64\n",
       "4770                   float64\n",
       "Total Bags             float64\n",
       "Small Bags             float64\n",
       "Large Bags             float64\n",
       "XLarge Bags            float64\n",
       "type                    object\n",
       "year                     int64\n",
       "region                  object\n",
       "dtype: object"
      ]
     },
     "execution_count": 3,
     "metadata": {},
     "output_type": "execute_result"
    }
   ],
   "execution_count": 3
  },
  {
   "cell_type": "markdown",
   "metadata": {},
   "source": [
    "4. Посмотрите на содержимое датафрейма, проверьте его размер"
   ]
  },
  {
   "cell_type": "markdown",
   "metadata": {},
   "source": [
    "<details>\n",
    "<summary>&#9658; Нажмите сюда, чтобы увидеть подсказку</summary>\n",
    "  <p>\n",
    "      \n",
    "**Как посмотреть на содержимое датафрейма?** Используйте метод `head()`\n",
    "\n",
    "**Как проверить размер датафрейма?** Используйте атрибут `shape`, чтобы узнать количество строк и столбцов. Этот атрибут возвращает кортеж, первый элемент которого указывает на количество строк, а второй — на количество столбцов в датафрейме.  \n",
    "      \n",
    "**Как обратиться к атрибуту датафрейма?** Для этого нужно написать переменную, где хранится датафрейм, поставить точку и написать название атрибута (без скобок!). Например:\n",
    "```python\n",
    "df.some_attribute\n",
    "```\n",
    "так мы обратимся к атрибуту `some_attribute` у датафрейма в переменной `df` \n",
    "      \n",
    "**Как использовать метод?** Например применим метод `some_method()` к датафрейму `df`:\n",
    "```python\n",
    "df.some_method()\n",
    "```\n",
    "</p>\n",
    "</details>"
   ]
  },
  {
   "cell_type": "code",
   "metadata": {
    "ExecuteTime": {
     "end_time": "2024-12-23T18:10:30.149535Z",
     "start_time": "2024-12-23T18:10:30.119197Z"
    }
   },
   "source": [
    "print(avocado_full.shape)\n",
    "avocado_full.head(5)\n"
   ],
   "outputs": [
    {
     "name": "stdout",
     "output_type": "stream",
     "text": [
      "(18249, 13)\n"
     ]
    },
    {
     "data": {
      "text/plain": [
       "        Date  AveragePrice  Total Volume     4046      4225     4770  \\\n",
       "0 2015-01-04          1.75      27365.89  9307.34   3844.81   615.28   \n",
       "1 2015-01-04          1.49      17723.17  1189.35  15628.27     0.00   \n",
       "2 2015-01-04          1.68       2896.72   161.68    206.96     0.00   \n",
       "3 2015-01-04          1.52      54956.80  3013.04  35456.88  1561.70   \n",
       "4 2015-01-04          1.64       1505.12     1.27   1129.50     0.00   \n",
       "\n",
       "   Total Bags  Small Bags  Large Bags  XLarge Bags          type  year  \\\n",
       "0    13598.46    13061.10      537.36          0.0       organic  2015   \n",
       "1      905.55      905.55        0.00          0.0       organic  2015   \n",
       "2     2528.08     2528.08        0.00          0.0       organic  2015   \n",
       "3    14925.18    11264.80     3660.38          0.0  conventional  2015   \n",
       "4      374.35      186.67      187.68          0.0       organic  2015   \n",
       "\n",
       "               region  \n",
       "0           Southeast  \n",
       "1             Chicago  \n",
       "2  HarrisburgScranton  \n",
       "3          Pittsburgh  \n",
       "4               Boise  "
      ],
      "text/html": [
       "<div>\n",
       "<style scoped>\n",
       "    .dataframe tbody tr th:only-of-type {\n",
       "        vertical-align: middle;\n",
       "    }\n",
       "\n",
       "    .dataframe tbody tr th {\n",
       "        vertical-align: top;\n",
       "    }\n",
       "\n",
       "    .dataframe thead th {\n",
       "        text-align: right;\n",
       "    }\n",
       "</style>\n",
       "<table border=\"1\" class=\"dataframe\">\n",
       "  <thead>\n",
       "    <tr style=\"text-align: right;\">\n",
       "      <th></th>\n",
       "      <th>Date</th>\n",
       "      <th>AveragePrice</th>\n",
       "      <th>Total Volume</th>\n",
       "      <th>4046</th>\n",
       "      <th>4225</th>\n",
       "      <th>4770</th>\n",
       "      <th>Total Bags</th>\n",
       "      <th>Small Bags</th>\n",
       "      <th>Large Bags</th>\n",
       "      <th>XLarge Bags</th>\n",
       "      <th>type</th>\n",
       "      <th>year</th>\n",
       "      <th>region</th>\n",
       "    </tr>\n",
       "  </thead>\n",
       "  <tbody>\n",
       "    <tr>\n",
       "      <th>0</th>\n",
       "      <td>2015-01-04</td>\n",
       "      <td>1.75</td>\n",
       "      <td>27365.89</td>\n",
       "      <td>9307.34</td>\n",
       "      <td>3844.81</td>\n",
       "      <td>615.28</td>\n",
       "      <td>13598.46</td>\n",
       "      <td>13061.10</td>\n",
       "      <td>537.36</td>\n",
       "      <td>0.0</td>\n",
       "      <td>organic</td>\n",
       "      <td>2015</td>\n",
       "      <td>Southeast</td>\n",
       "    </tr>\n",
       "    <tr>\n",
       "      <th>1</th>\n",
       "      <td>2015-01-04</td>\n",
       "      <td>1.49</td>\n",
       "      <td>17723.17</td>\n",
       "      <td>1189.35</td>\n",
       "      <td>15628.27</td>\n",
       "      <td>0.00</td>\n",
       "      <td>905.55</td>\n",
       "      <td>905.55</td>\n",
       "      <td>0.00</td>\n",
       "      <td>0.0</td>\n",
       "      <td>organic</td>\n",
       "      <td>2015</td>\n",
       "      <td>Chicago</td>\n",
       "    </tr>\n",
       "    <tr>\n",
       "      <th>2</th>\n",
       "      <td>2015-01-04</td>\n",
       "      <td>1.68</td>\n",
       "      <td>2896.72</td>\n",
       "      <td>161.68</td>\n",
       "      <td>206.96</td>\n",
       "      <td>0.00</td>\n",
       "      <td>2528.08</td>\n",
       "      <td>2528.08</td>\n",
       "      <td>0.00</td>\n",
       "      <td>0.0</td>\n",
       "      <td>organic</td>\n",
       "      <td>2015</td>\n",
       "      <td>HarrisburgScranton</td>\n",
       "    </tr>\n",
       "    <tr>\n",
       "      <th>3</th>\n",
       "      <td>2015-01-04</td>\n",
       "      <td>1.52</td>\n",
       "      <td>54956.80</td>\n",
       "      <td>3013.04</td>\n",
       "      <td>35456.88</td>\n",
       "      <td>1561.70</td>\n",
       "      <td>14925.18</td>\n",
       "      <td>11264.80</td>\n",
       "      <td>3660.38</td>\n",
       "      <td>0.0</td>\n",
       "      <td>conventional</td>\n",
       "      <td>2015</td>\n",
       "      <td>Pittsburgh</td>\n",
       "    </tr>\n",
       "    <tr>\n",
       "      <th>4</th>\n",
       "      <td>2015-01-04</td>\n",
       "      <td>1.64</td>\n",
       "      <td>1505.12</td>\n",
       "      <td>1.27</td>\n",
       "      <td>1129.50</td>\n",
       "      <td>0.00</td>\n",
       "      <td>374.35</td>\n",
       "      <td>186.67</td>\n",
       "      <td>187.68</td>\n",
       "      <td>0.0</td>\n",
       "      <td>organic</td>\n",
       "      <td>2015</td>\n",
       "      <td>Boise</td>\n",
       "    </tr>\n",
       "  </tbody>\n",
       "</table>\n",
       "</div>"
      ]
     },
     "execution_count": 4,
     "metadata": {},
     "output_type": "execute_result"
    }
   ],
   "execution_count": 4
  },
  {
   "cell_type": "markdown",
   "metadata": {},
   "source": [
    "5. Сгруппируйте данные по дате и посчитайте для каждой даты усредненное значение средних цен на авокадо (см.колонку `AveragePrice`). Результат сохраните в переменную `avocado_mean`"
   ]
  },
  {
   "cell_type": "markdown",
   "metadata": {},
   "source": [
    "<details>\n",
    "<summary>&#9658; Нажмите сюда, чтобы увидеть подсказку</summary>\n",
    "  <p>\n",
    "\n",
    "**Сгруппируйте данные по столбцу `Date`, используя метод `groupby()`**. Его вызов группирует строки по значениям в какой-то колонке (или комбинации значений из нескольких колонок). Например,\n",
    "\n",
    "```python\n",
    "df.groupby('month')\n",
    "```\n",
    "сгруппирует данные датафрейма `df` по колонке `month`. Сама по себе группировка не вычисляет что-то по группам.\n",
    "\n",
    "**После группировки используйте метод `mean()` для столбца `AveragePrice`**. Этот метод посчитает среднее всех значений в указанном столбце.\n",
    "\n",
    "**Как использовать метод?** Давайте применим метод `some_method()` к колонке `column_name` датафрейма `df`:\n",
    "```python\n",
    "df.column_name.some_method()\n",
    "```\n",
    "\n",
    "**Как использовать метод сразу после группировки?** Применим метод `some_method()` к колонке `column_name_2` после группировки по столбцу `column_name_1` датафрейма `df`:\n",
    "```python\n",
    "df.groupby('column_name_1').column_name_2.some_method()\n",
    "```      \n",
    "      \n",
    "**Как сохранить результат?** Например применим метод `some_method()` к датафрейму `df` и сохраним результат в переменную `new_df`:\n",
    "```python\n",
    "new_df = df.some_method()\n",
    "```\n",
    "</p>\n",
    "</details>"
   ]
  },
  {
   "cell_type": "code",
   "metadata": {
    "ExecuteTime": {
     "end_time": "2024-12-23T18:23:32.019929Z",
     "start_time": "2024-12-23T18:23:32.002943Z"
    }
   },
   "source": [
    "new_df = avocado_full.groupby('Date')['AveragePrice'].mean().reset_index()\n",
    "new_df.rename(columns={'AveragePrice': 'avocado_mean'}, inplace=True)\n",
    "new_df.head(5)\n",
    "\n",
    "\n"
   ],
   "outputs": [
    {
     "data": {
      "text/plain": [
       "        Date  avocado_mean\n",
       "0 2015-01-04      1.301296\n",
       "1 2015-01-11      1.370648\n",
       "2 2015-01-18      1.391111\n",
       "3 2015-01-25      1.397130\n",
       "4 2015-02-01      1.247037"
      ],
      "text/html": [
       "<div>\n",
       "<style scoped>\n",
       "    .dataframe tbody tr th:only-of-type {\n",
       "        vertical-align: middle;\n",
       "    }\n",
       "\n",
       "    .dataframe tbody tr th {\n",
       "        vertical-align: top;\n",
       "    }\n",
       "\n",
       "    .dataframe thead th {\n",
       "        text-align: right;\n",
       "    }\n",
       "</style>\n",
       "<table border=\"1\" class=\"dataframe\">\n",
       "  <thead>\n",
       "    <tr style=\"text-align: right;\">\n",
       "      <th></th>\n",
       "      <th>Date</th>\n",
       "      <th>avocado_mean</th>\n",
       "    </tr>\n",
       "  </thead>\n",
       "  <tbody>\n",
       "    <tr>\n",
       "      <th>0</th>\n",
       "      <td>2015-01-04</td>\n",
       "      <td>1.301296</td>\n",
       "    </tr>\n",
       "    <tr>\n",
       "      <th>1</th>\n",
       "      <td>2015-01-11</td>\n",
       "      <td>1.370648</td>\n",
       "    </tr>\n",
       "    <tr>\n",
       "      <th>2</th>\n",
       "      <td>2015-01-18</td>\n",
       "      <td>1.391111</td>\n",
       "    </tr>\n",
       "    <tr>\n",
       "      <th>3</th>\n",
       "      <td>2015-01-25</td>\n",
       "      <td>1.397130</td>\n",
       "    </tr>\n",
       "    <tr>\n",
       "      <th>4</th>\n",
       "      <td>2015-02-01</td>\n",
       "      <td>1.247037</td>\n",
       "    </tr>\n",
       "  </tbody>\n",
       "</table>\n",
       "</div>"
      ]
     },
     "execution_count": 29,
     "metadata": {},
     "output_type": "execute_result"
    }
   ],
   "execution_count": 29
  },
  {
   "cell_type": "markdown",
   "metadata": {},
   "source": [
    "6. Посмотрите на значение усредненной цены в первой строчке получившейся переменной `avocado_mean`"
   ]
  },
  {
   "cell_type": "markdown",
   "metadata": {},
   "source": [
    "<details>\n",
    "<summary>&#9658; Нажмите сюда, чтобы увидеть подсказку</summary>\n",
    "  <p>\n",
    "\n",
    "Это можно сделать без кода, просто глазами.\n",
    "      \n",
    "Если в первой строчке у вас стоит не 4 января 2015 года, а другая дата - вероятно, вы что-то сделали не так, вернитесь на предыдущий шаг выполнения\n",
    "</p>\n",
    "</details>"
   ]
  },
  {
   "cell_type": "markdown",
   "metadata": {},
   "source": [
    "## Шаг 3"
   ]
  },
  {
   "cell_type": "markdown",
   "metadata": {},
   "source": [
    "Перед тем, как приступить к подсчету скользящего среднего, убедитесь, что вы знаете параметры метода `rolling`, представленные в [документации pandas](https://pandas.pydata.org/pandas-docs/stable/reference/api/pandas.DataFrame.rolling.html). Установите соответствие между каждым параметром и его описанием."
   ]
  },
  {
   "cell_type": "markdown",
   "metadata": {},
   "source": [
    "Шаги выполнения:  \n",
    "1. Откройте документацию по ссылке: https://pandas.pydata.org/pandas-docs/stable/reference/api/pandas.DataFrame.rolling.html и прочитайте, что значит каждый из параметров"
   ]
  },
  {
   "cell_type": "markdown",
   "metadata": {},
   "source": [
    "<details>\n",
    "<summary>&#9658; Нажмите сюда, чтобы увидеть подсказку</summary>\n",
    "  <p>\n",
    "      \n",
    "При необходимости воспользуйтесь переводчиком\n",
    "</p>\n",
    "</details>"
   ]
  },
  {
   "cell_type": "markdown",
   "metadata": {},
   "source": [
    "## Шаг 4"
   ]
  },
  {
   "cell_type": "markdown",
   "metadata": {},
   "source": [
    "**Теперь на полученных во втором шаге данных посчитайте скользящее среднее цены авокадо, с окном равным 3. Чему равно максимальное значение?** Ответ округлите до двух знаков после точки."
   ]
  },
  {
   "cell_type": "markdown",
   "metadata": {},
   "source": [
    "Шаги выполнения:  \n",
    "1. На данных из переменной `avocado_mean ` посчитайте скользящее среднее цены авокадо, с окном равным 3"
   ]
  },
  {
   "cell_type": "markdown",
   "metadata": {},
   "source": [
    "<details>\n",
    "<summary>&#9658; Нажмите сюда, чтобы увидеть подсказку</summary>\n",
    "  <p>\n",
    "      \n",
    "**Как посчитать скользящее среднее, с окном равным 3?** Используйте комбинацию методов: сначала метод `rolling()`, в котором задайте параметр `window` равным 3; а после него - метод `mean`.\n",
    "    \n",
    "**Как использовать комбинацию методов?** Например применим сначала метод `some_method_1()` к серии `series` и зададим параметр `parameter` равным 5, а после него - метод `some_method_2()`:\n",
    "```python\n",
    "series.some_method_1(parameter=5).some_method_2()\n",
    "```\n",
    "      \n",
    "Если в переменной `avocado_mean` у вас получилась не серия с датой в индексе, а датафрейм с двумя колонками (дата и средняя цена), то применяйте метод `rolling()` к колонке `AveragePrice` этого датафрейма. Пример синтаксиса:\n",
    "```python\n",
    "df.col_name.some_method_1(parameter=5).some_method_2()\n",
    "```      \n",
    "</p>\n",
    "</details>"
   ]
  },
  {
   "cell_type": "code",
   "metadata": {
    "ExecuteTime": {
     "end_time": "2024-12-23T19:18:01.610748Z",
     "start_time": "2024-12-23T19:18:01.593411Z"
    }
   },
   "source": [
    "temp_df = new_df['Date']\n",
    "new_df1 = new_df.drop('Date', axis=1)\n",
    "df_rolling = new_df1.rolling(window=3).mean()\n",
    "df_rolling = pd.concat([temp_df, df_rolling], axis=1)\n",
    "df_rolling.head(5)\n",
    "\n"
   ],
   "outputs": [
    {
     "data": {
      "text/plain": [
       "        Date  avocado_mean\n",
       "0 2015-01-04           NaN\n",
       "1 2015-01-11           NaN\n",
       "2 2015-01-18      1.354352\n",
       "3 2015-01-25      1.386296\n",
       "4 2015-02-01      1.345093"
      ],
      "text/html": [
       "<div>\n",
       "<style scoped>\n",
       "    .dataframe tbody tr th:only-of-type {\n",
       "        vertical-align: middle;\n",
       "    }\n",
       "\n",
       "    .dataframe tbody tr th {\n",
       "        vertical-align: top;\n",
       "    }\n",
       "\n",
       "    .dataframe thead th {\n",
       "        text-align: right;\n",
       "    }\n",
       "</style>\n",
       "<table border=\"1\" class=\"dataframe\">\n",
       "  <thead>\n",
       "    <tr style=\"text-align: right;\">\n",
       "      <th></th>\n",
       "      <th>Date</th>\n",
       "      <th>avocado_mean</th>\n",
       "    </tr>\n",
       "  </thead>\n",
       "  <tbody>\n",
       "    <tr>\n",
       "      <th>0</th>\n",
       "      <td>2015-01-04</td>\n",
       "      <td>NaN</td>\n",
       "    </tr>\n",
       "    <tr>\n",
       "      <th>1</th>\n",
       "      <td>2015-01-11</td>\n",
       "      <td>NaN</td>\n",
       "    </tr>\n",
       "    <tr>\n",
       "      <th>2</th>\n",
       "      <td>2015-01-18</td>\n",
       "      <td>1.354352</td>\n",
       "    </tr>\n",
       "    <tr>\n",
       "      <th>3</th>\n",
       "      <td>2015-01-25</td>\n",
       "      <td>1.386296</td>\n",
       "    </tr>\n",
       "    <tr>\n",
       "      <th>4</th>\n",
       "      <td>2015-02-01</td>\n",
       "      <td>1.345093</td>\n",
       "    </tr>\n",
       "  </tbody>\n",
       "</table>\n",
       "</div>"
      ]
     },
     "execution_count": 36,
     "metadata": {},
     "output_type": "execute_result"
    }
   ],
   "execution_count": 36
  },
  {
   "cell_type": "markdown",
   "metadata": {},
   "source": [
    "2. Посмотрите на получившиеся значения - теперь к каждой дате относится среднее значение, полученное из значений за этот и два предыдущих дня. Первые две записи должны содержать `NaN`\n",
    "3. Определите максимальное значение из получившихся скользящих средних"
   ]
  },
  {
   "cell_type": "markdown",
   "metadata": {},
   "source": [
    "<details>\n",
    "<summary>&#9658; Нажмите сюда, чтобы увидеть подсказку</summary>\n",
    "  <p>\n",
    "      \n",
    "**Как определить максимальное значение?** Используйте метод `max()`\n",
    "      \n",
    "**Как использовать метод?** Например применим метод `some_method()` к датафрейму `df`:\n",
    "```python\n",
    "df.some_method()\n",
    "```\n",
    "</p>\n",
    "</details>"
   ]
  },
  {
   "metadata": {
    "ExecuteTime": {
     "end_time": "2024-12-23T18:10:32.436982Z",
     "start_time": "2024-12-23T18:10:32.425851Z"
    }
   },
   "cell_type": "code",
   "source": [
    "df_max = df_rolling.sort_values(by='avocado_mean', ascending=False)\n",
    "df_max = df_max.iloc[[0]]\n",
    "print(df_max)\n",
    "\n"
   ],
   "outputs": [
    {
     "name": "stdout",
     "output_type": "stream",
     "text": [
      "          Date  avocado_mean\n",
      "144 2017-10-08      1.849321\n"
     ]
    }
   ],
   "execution_count": 7
  },
  {
   "cell_type": "markdown",
   "metadata": {},
   "source": [
    "4. Округлите максимальное значение до двух знаков после точки"
   ]
  },
  {
   "cell_type": "markdown",
   "metadata": {},
   "source": [
    "<details>\n",
    "<summary>&#9658; Нажмите сюда, чтобы увидеть подсказку</summary>\n",
    "  <p>\n",
    "\n",
    "Используйте метод `round()`. По умолчанию округление идет до целого числа. Чтобы задать нужное число знаков после точки, передайте в метод аргумент — целое число. Например применим метод к колонке `column_name` датафрейма `df`, задав округление до пяти знаков после точки:\n",
    "```python\n",
    "df.column_name.round(5)\n",
    "```\n",
    "\n",
    "Если выполняете задание не в JupyterHub нашего курса, то может возникнуть ошибка `AttributeError: 'float' object has no attribute 'round'`, тогда вместо метода `round()` используйте встроенную функцию python `round`. Например:\n",
    "```python\n",
    "round(12.345, 1)\n",
    "```\n",
    "в результате получим число 12.3      \n",
    "</p>\n",
    "</details>"
   ]
  },
  {
   "cell_type": "code",
   "metadata": {
    "ExecuteTime": {
     "end_time": "2024-12-23T18:10:33.139026Z",
     "start_time": "2024-12-23T18:10:33.130633Z"
    }
   },
   "source": [
    "df_max['avocado_mean'] = df_max['avocado_mean'].round(2)\n",
    "print(df_max)\n",
    "\n"
   ],
   "outputs": [
    {
     "name": "stdout",
     "output_type": "stream",
     "text": [
      "          Date  avocado_mean\n",
      "144 2017-10-08          1.85\n"
     ]
    }
   ],
   "execution_count": 8
  },
  {
   "cell_type": "markdown",
   "metadata": {},
   "source": [
    "## Шаг 5"
   ]
  },
  {
   "cell_type": "markdown",
   "metadata": {},
   "source": [
    "Исследуйте, как размер окна влияет на сглаживание значения. **Постройте линейные графики и посмотрите, как изменится линия в зависимости от выбранного размера окна (2, 4, 10, 50). Соотнесите эти картинки с соответствующим значением размера окна:**"
   ]
  },
  {
   "cell_type": "markdown",
   "metadata": {},
   "source": [
    "![](https://ucarecdn.com/c24cc8c4-4596-4d71-a6ca-b5ad8ac3cd6f/)"
   ]
  },
  {
   "cell_type": "markdown",
   "metadata": {},
   "source": [
    "Шаги выполнения:  \n",
    "1. Импортируйте библиотеку `seaborn` и модуль `pyplot` из библиотеки `matplotlib`"
   ]
  },
  {
   "cell_type": "markdown",
   "metadata": {},
   "source": [
    "<details>\n",
    "<summary>&#9658; Нажмите сюда, чтобы увидеть подсказку</summary>\n",
    "  <p>\n",
    "      \n",
    "**Для импорта библиотеки напишите**\n",
    "```python\n",
    "import library as shortcut\n",
    "```\n",
    "где вместо `library` подставьте название библиотеки, а вместо `shortcut` - её общераспространённое сокращённое название\n",
    "      \n",
    "**Для импорта модуля из библиотеки напишите**\n",
    "\n",
    "```python\n",
    "import library.module as shortcut\n",
    "```\n",
    "где вместо `library` подставьте название библиотеки, вместо `module` — название модуля, а вместо `shortcut` — его общераспространённое сокращённое название\n",
    "</p>\n",
    "</details>"
   ]
  },
  {
   "cell_type": "code",
   "metadata": {
    "ExecuteTime": {
     "end_time": "2024-12-23T18:10:33.591369Z",
     "start_time": "2024-12-23T18:10:33.587433Z"
    }
   },
   "source": [
    "import seaborn as sns\n",
    "\n"
   ],
   "outputs": [],
   "execution_count": 9
  },
  {
   "cell_type": "markdown",
   "metadata": {},
   "source": [
    "2. Создайте список `windows`, в котором перечислите значения размеров окна"
   ]
  },
  {
   "cell_type": "markdown",
   "metadata": {},
   "source": [
    "<details>\n",
    "<summary>&#9658; Нажмите сюда, чтобы увидеть подсказку</summary>\n",
    "  <p>\n",
    "      \n",
    "**Чтобы создать список,** напишите в квадратных скобках числа, означающие размер окна, и сохраните это в переменную `windows`. Например, код:\n",
    "```python\n",
    "list_123 = [1, 2, 3]\n",
    "```\n",
    "создаст переменную `list_123`, в которой будет храниться список с тремя значениями: 1, 2 и 3\n",
    "</p>\n",
    "</details>"
   ]
  },
  {
   "cell_type": "code",
   "metadata": {
    "ExecuteTime": {
     "end_time": "2024-12-23T18:10:34.188083Z",
     "start_time": "2024-12-23T18:10:34.181508Z"
    }
   },
   "source": [
    "windows = [2, 4, 10, 50]\n",
    "\n",
    "\n"
   ],
   "outputs": [],
   "execution_count": 10
  },
  {
   "cell_type": "markdown",
   "metadata": {},
   "source": [
    "3. Постройте линейные графики с разными размерами окон, используя функцию `plt.subplots()` из библиотеки `matplotlib` и функцию `lineplot` из библиотеки `seaborn`"
   ]
  },
  {
   "cell_type": "markdown",
   "metadata": {},
   "source": [
    "<details>\n",
    "<summary>&#9658; Нажмите сюда, чтобы увидеть подсказку</summary>\n",
    "  <p>\n",
    "      \n",
    "**Выполните в одной ячейке:**\n",
    "      \n",
    "1. Сохраните в переменные `fig, axes` результат выполнения функции `plt.subplots` c аргументами `4, 1, figsize=(8, 12)`, где 4 - количество графиков по вертикали, 1 - количество графиков по горизонтали, figsize - общий размер фигуры из 4 графиков\n",
    "      \n",
    "2. Напишите цикл, чтобы на каждом его шаге генерилась пара переменных `i, window` с помощью функции `enumerate`, в которую передан список `windows` со значениями размера окна (с предыдущего шага выполнения). В теле цикла:  \n",
    "      a. создавайте новый датафрейм, в котором на основе данных из `avocado_mean` считается скользящее среднее с размером окна, равным числу из переменной `window`  \n",
    "      b. стройте график на основе этого датафрейма, используя функцию `sns.lineplot`. В параметр `ax` этой функции передайте `axes[i]`, чтобы на каждом шаге цикла график строился на своем месте  \n",
    "      c. установите название для каждого графика, в котором пропишите размер окна. Для этого используйте `axes[i].set_title()`, f-строку и размер окна из переменной `window`\n",
    "      \n",
    "3. Используйте функцию `plt.tight_layout()`, чтобы интервал между графиками был корректным и графики не перекрывали друг друга\n",
    "     \n",
    "Пример синтаксиса:      \n",
    "\n",
    "```python\n",
    "fig, axes = plt.subplots(2, 1, figsize=(8, 6))\n",
    "for i, variable in enumerate(variables):\n",
    "    df_new = df.some_method(some_parameter=variable)\n",
    "    sns.barplot(data=df_new, ax=axes[i])\n",
    "    axes[i].set_title(f'variable is {variable}')\n",
    "plt.tight_layout()\n",
    "```      \n",
    "</p>\n",
    "</details>"
   ]
  },
  {
   "cell_type": "code",
   "metadata": {
    "ExecuteTime": {
     "end_time": "2024-12-23T18:23:41.371836Z",
     "start_time": "2024-12-23T18:23:39.480695Z"
    }
   },
   "source": [
    "import matplotlib.pyplot as plt\n",
    "\n",
    "fig, axes = plt.subplots(4, 1, figsize=(8, 12))\n",
    "for i, window in enumerate(windows):\n",
    "    tmp1 = new_df['Date']\n",
    "    tmp2 = new_df.drop('Date', axis=1)\n",
    "    tmp = tmp2.rolling(window=window).mean()\n",
    "    tmp = pd.concat([tmp, tmp1], axis=1)\n",
    "    sns.lineplot(data=tmp, x='Date', y='avocado_mean', ax=axes[i])\n",
    "    axes[i].set_title(f'График со скользящим окном {window}')\n",
    "plt.tight_layout()\n",
    "plt.show()"
   ],
   "outputs": [
    {
     "data": {
      "text/plain": [
       "<Figure size 800x1200 with 4 Axes>"
      ],
      "image/png": "[encoded data removed]"
     },
     "metadata": {},
     "output_type": "display_data"
    }
   ],
   "execution_count": 31
  },
  {
   "cell_type": "markdown",
   "metadata": {},
   "source": [
    "4. Посмотрите на получившиеся графики и соотнесите картинки в LMS с соответствующим значением размера окна"
   ]
  },
  {
   "cell_type": "markdown",
   "metadata": {},
   "source": [
    "<details>\n",
    "<summary>&#9658; Нажмите сюда, чтобы увидеть подсказку</summary>\n",
    "  <p>\n",
    "      \n",
    "Обратите внимание на то, насколько сглаженными получились значения.\n",
    "      \n",
    "Цвет графика не играет роли\n",
    "</p>\n",
    "</details>"
   ]
  },
  {
   "cell_type": "markdown",
   "metadata": {},
   "source": [
    "## Шаг 6"
   ]
  },
  {
   "cell_type": "markdown",
   "metadata": {},
   "source": [
    "**Теперь посчитайте экспоненциальное скользящее среднее.** Используйте данные в переменной `avocado_mean` и метод `ewm()` с параметром `span`, равным 2. Результат запишите в переменную `avocado_ewm`.\n",
    "\n",
    "**На LMS уже создана переменная `avocado_mean`. Загрузите в LMS ваш код, в котором сохраняете в переменную `avocado_ewm` расчет экспоненциального скользящего среднего**"
   ]
  },
  {
   "cell_type": "markdown",
   "metadata": {},
   "source": [
    "Шаги выполнения:  \n",
    "1. Посчитайте экспоненциальное скользящее среднее на основе данных из переменной `avocado_mean`. Используйте метод `ewm()` с параметром `span`, равным 2, и метод `mean()`. Результат запишите в переменную `avocado_ewm`"
   ]
  },
  {
   "cell_type": "markdown",
   "metadata": {},
   "source": [
    "<details>\n",
    "<summary>&#9658; Нажмите сюда, чтобы увидеть подсказку</summary>\n",
    "  <p>\n",
    "      \n",
    "Как использовать методы `ewm()` и `mean()`? Напишите их друг за другом, сначала `ewm()`. В этом методе задайте параметр `span=2`\n",
    "      \n",
    "Например применим сначала метод `some_method_1()` к серии `series` и зададим параметр `parameter` равным 5, а после него - метод `some_method_2()`. Результат запишем в переменную `new_variable`:\n",
    "```python\n",
    "new_variable = series.some_method_1(parameter=5).some_method_2()\n",
    "```\n",
    "\n",
    "**Не забудьте сохранить результат в переменную `avocado_ewm`.**  \n",
    "      \n",
    "Если в `avocado_mean` к этому моменту у вас получилась не серия с датой в индексе, а датафрейм с двумя колонками (дата и средняя цена), то сначала переведите колонку с датой в индекс и сохраните результат в ту же переменную `avocado_mean` с помощью следующего кода:\n",
    "```python\n",
    "avocado_mean = avocado_mean.set_index('Date')\n",
    "```      \n",
    "**Этот код копировать в ЛМС не нужно**    \n",
    "</p>\n",
    "</details>"
   ]
  },
  {
   "cell_type": "code",
   "metadata": {
    "ExecuteTime": {
     "end_time": "2024-12-23T19:20:17.350379Z",
     "start_time": "2024-12-23T19:20:17.329067Z"
    }
   },
   "source": [
    "df_rolling.head(5)\n",
    "df_tmp = df_rolling['Date']\n",
    "df_rolling_tmp = df_rolling.drop('Date', axis=1)\n",
    "df_rolling_ewm = df_rolling_tmp.ewm(span=2).mean()\n",
    "df_rolling_ewm = df_rolling_ewm.rename(columns={'avocado_mean': 'avocado_mean_ewm'})\n",
    "df_rolling_ewm = pd.concat([df_rolling_ewm, df_tmp], axis=1)\n",
    "df_rolling_ewm.head(5)\n",
    "\n"
   ],
   "outputs": [
    {
     "data": {
      "text/plain": [
       "   avocado_mean_ewm       Date\n",
       "0               NaN 2015-01-04\n",
       "1               NaN 2015-01-11\n",
       "2          1.354352 2015-01-18\n",
       "3          1.378310 2015-01-25\n",
       "4          1.355313 2015-02-01"
      ],
      "text/html": [
       "<div>\n",
       "<style scoped>\n",
       "    .dataframe tbody tr th:only-of-type {\n",
       "        vertical-align: middle;\n",
       "    }\n",
       "\n",
       "    .dataframe tbody tr th {\n",
       "        vertical-align: top;\n",
       "    }\n",
       "\n",
       "    .dataframe thead th {\n",
       "        text-align: right;\n",
       "    }\n",
       "</style>\n",
       "<table border=\"1\" class=\"dataframe\">\n",
       "  <thead>\n",
       "    <tr style=\"text-align: right;\">\n",
       "      <th></th>\n",
       "      <th>avocado_mean_ewm</th>\n",
       "      <th>Date</th>\n",
       "    </tr>\n",
       "  </thead>\n",
       "  <tbody>\n",
       "    <tr>\n",
       "      <th>0</th>\n",
       "      <td>NaN</td>\n",
       "      <td>2015-01-04</td>\n",
       "    </tr>\n",
       "    <tr>\n",
       "      <th>1</th>\n",
       "      <td>NaN</td>\n",
       "      <td>2015-01-11</td>\n",
       "    </tr>\n",
       "    <tr>\n",
       "      <th>2</th>\n",
       "      <td>1.354352</td>\n",
       "      <td>2015-01-18</td>\n",
       "    </tr>\n",
       "    <tr>\n",
       "      <th>3</th>\n",
       "      <td>1.378310</td>\n",
       "      <td>2015-01-25</td>\n",
       "    </tr>\n",
       "    <tr>\n",
       "      <th>4</th>\n",
       "      <td>1.355313</td>\n",
       "      <td>2015-02-01</td>\n",
       "    </tr>\n",
       "  </tbody>\n",
       "</table>\n",
       "</div>"
      ]
     },
     "execution_count": 40,
     "metadata": {},
     "output_type": "execute_result"
    }
   ],
   "execution_count": 40
  },
  {
   "cell_type": "markdown",
   "metadata": {},
   "source": [
    "2. Скопируйте и загрузите в LMS весь ваш код для этого задания"
   ]
  },
  {
   "cell_type": "markdown",
   "metadata": {},
   "source": [
    "## Шаг 7"
   ]
  },
  {
   "cell_type": "markdown",
   "metadata": {},
   "source": [
    "Теперь вернемся к изначальным данным из датафрейма `avocado_full`. Для органических авокадо (см.колонку `type`) в Чикаго (см.колонку `region`) посчитайте скользящее среднее с окном 4. Числа округлите до трех знаков после точки. На основе получившихся данных постройте интерактивный линейный график, чтобы было удобно заполнить пропуски:\n",
    "\n",
    "*При подсчете скользящего среднего средняя цена за авокадо 21 августа 2016 года была равна ..., 19 февраля 2017 её значение было равно ...*"
   ]
  },
  {
   "cell_type": "markdown",
   "metadata": {},
   "source": [
    "Шаги выполнения:  \n",
    "1. Отберите только записи о покупках органических авокадо в Чикаго и сохраните результат в переменную `organic_ch`"
   ]
  },
  {
   "cell_type": "markdown",
   "metadata": {},
   "source": [
    "<details>\n",
    "<summary>&#9658; Нажмите сюда, чтобы увидеть подсказку</summary>\n",
    "  <p>\n",
    "\n",
    "**Чтобы отобрать только нужные записи, примените к датафрейму метод `query()`,** внутри которого напишите строку с двойным условием: значение в колонке `type` равно organic и регион в колонке `region` — Chicago.\n",
    "\n",
    "Как использовать метод `query()`? Например, отберем строки датафрейма `df`, где в колонке `col_1` значение равно 5 или в колонке `col_2` значение не равно `some_string`:\n",
    "\n",
    "```python\n",
    "df_new = df.query('col_1 == 5 or col_2 != \"some_string\"')\n",
    "```    \n",
    "      \n",
    "Между условиями поставьте логический оператор: `and` (или `&`), если оба условия обязательно должны выполняться. Или оператор `or` (или `|`), если должно выполняться хотя бы одно из условий.\n",
    "      \n",
    "Учтите, что оба условия нужно писать в единых кавычках, а каждое условие и названия колонок — без кавычек. Целые числа также пишутся без кавычек, а строки — в кавычках (двойных или одинарных — главное, не тех, в которые взяты оба условия).\n",
    "      \n",
    "Помните, что один знак равно означает присвоение, а два — проверку на равенство.\n",
    "      \n",
    "**Как сохранить отобранные записи в новый датафрейм?** Например, код\n",
    "```python\n",
    "new_df = df.query()\n",
    "```\n",
    "сохранит в датафрейм `new_df` только отобранные значения из датафрейма `df`\n",
    "    \n",
    "</p>\n",
    "</details>"
   ]
  },
  {
   "cell_type": "code",
   "metadata": {
    "ExecuteTime": {
     "end_time": "2024-12-23T20:03:48.878275Z",
     "start_time": "2024-12-23T20:03:48.851499Z"
    }
   },
   "source": [
    "organic_ch = avocado_full[(avocado_full['type'] == 'organic') & (avocado_full['region'] == 'Chicago')]\n",
    "organic_ch.head(5)\n",
    "\n",
    "\n"
   ],
   "outputs": [
    {
     "data": {
      "text/plain": [
       "          Date  AveragePrice  Total Volume     4046      4225  4770  \\\n",
       "1   2015-01-04          1.49      17723.17  1189.35  15628.27   0.0   \n",
       "153 2015-01-11          1.79      12915.74  1426.75  10900.10   0.0   \n",
       "293 2015-01-18          1.81      12499.87  1154.81  10830.61   0.0   \n",
       "343 2015-01-25          1.83      10951.51   711.63   9515.44   0.0   \n",
       "537 2015-02-01          1.52      14391.05  1363.35  11835.47   0.0   \n",
       "\n",
       "     Total Bags  Small Bags  Large Bags  XLarge Bags     type  year   region  \n",
       "1        905.55      905.55         0.0          0.0  organic  2015  Chicago  \n",
       "153      588.89      588.89         0.0          0.0  organic  2015  Chicago  \n",
       "293      514.45      514.45         0.0          0.0  organic  2015  Chicago  \n",
       "343      724.44      724.44         0.0          0.0  organic  2015  Chicago  \n",
       "537     1192.23     1192.23         0.0          0.0  organic  2015  Chicago  "
      ],
      "text/html": [
       "<div>\n",
       "<style scoped>\n",
       "    .dataframe tbody tr th:only-of-type {\n",
       "        vertical-align: middle;\n",
       "    }\n",
       "\n",
       "    .dataframe tbody tr th {\n",
       "        vertical-align: top;\n",
       "    }\n",
       "\n",
       "    .dataframe thead th {\n",
       "        text-align: right;\n",
       "    }\n",
       "</style>\n",
       "<table border=\"1\" class=\"dataframe\">\n",
       "  <thead>\n",
       "    <tr style=\"text-align: right;\">\n",
       "      <th></th>\n",
       "      <th>Date</th>\n",
       "      <th>AveragePrice</th>\n",
       "      <th>Total Volume</th>\n",
       "      <th>4046</th>\n",
       "      <th>4225</th>\n",
       "      <th>4770</th>\n",
       "      <th>Total Bags</th>\n",
       "      <th>Small Bags</th>\n",
       "      <th>Large Bags</th>\n",
       "      <th>XLarge Bags</th>\n",
       "      <th>type</th>\n",
       "      <th>year</th>\n",
       "      <th>region</th>\n",
       "    </tr>\n",
       "  </thead>\n",
       "  <tbody>\n",
       "    <tr>\n",
       "      <th>1</th>\n",
       "      <td>2015-01-04</td>\n",
       "      <td>1.49</td>\n",
       "      <td>17723.17</td>\n",
       "      <td>1189.35</td>\n",
       "      <td>15628.27</td>\n",
       "      <td>0.0</td>\n",
       "      <td>905.55</td>\n",
       "      <td>905.55</td>\n",
       "      <td>0.0</td>\n",
       "      <td>0.0</td>\n",
       "      <td>organic</td>\n",
       "      <td>2015</td>\n",
       "      <td>Chicago</td>\n",
       "    </tr>\n",
       "    <tr>\n",
       "      <th>153</th>\n",
       "      <td>2015-01-11</td>\n",
       "      <td>1.79</td>\n",
       "      <td>12915.74</td>\n",
       "      <td>1426.75</td>\n",
       "      <td>10900.10</td>\n",
       "      <td>0.0</td>\n",
       "      <td>588.89</td>\n",
       "      <td>588.89</td>\n",
       "      <td>0.0</td>\n",
       "      <td>0.0</td>\n",
       "      <td>organic</td>\n",
       "      <td>2015</td>\n",
       "      <td>Chicago</td>\n",
       "    </tr>\n",
       "    <tr>\n",
       "      <th>293</th>\n",
       "      <td>2015-01-18</td>\n",
       "      <td>1.81</td>\n",
       "      <td>12499.87</td>\n",
       "      <td>1154.81</td>\n",
       "      <td>10830.61</td>\n",
       "      <td>0.0</td>\n",
       "      <td>514.45</td>\n",
       "      <td>514.45</td>\n",
       "      <td>0.0</td>\n",
       "      <td>0.0</td>\n",
       "      <td>organic</td>\n",
       "      <td>2015</td>\n",
       "      <td>Chicago</td>\n",
       "    </tr>\n",
       "    <tr>\n",
       "      <th>343</th>\n",
       "      <td>2015-01-25</td>\n",
       "      <td>1.83</td>\n",
       "      <td>10951.51</td>\n",
       "      <td>711.63</td>\n",
       "      <td>9515.44</td>\n",
       "      <td>0.0</td>\n",
       "      <td>724.44</td>\n",
       "      <td>724.44</td>\n",
       "      <td>0.0</td>\n",
       "      <td>0.0</td>\n",
       "      <td>organic</td>\n",
       "      <td>2015</td>\n",
       "      <td>Chicago</td>\n",
       "    </tr>\n",
       "    <tr>\n",
       "      <th>537</th>\n",
       "      <td>2015-02-01</td>\n",
       "      <td>1.52</td>\n",
       "      <td>14391.05</td>\n",
       "      <td>1363.35</td>\n",
       "      <td>11835.47</td>\n",
       "      <td>0.0</td>\n",
       "      <td>1192.23</td>\n",
       "      <td>1192.23</td>\n",
       "      <td>0.0</td>\n",
       "      <td>0.0</td>\n",
       "      <td>organic</td>\n",
       "      <td>2015</td>\n",
       "      <td>Chicago</td>\n",
       "    </tr>\n",
       "  </tbody>\n",
       "</table>\n",
       "</div>"
      ]
     },
     "execution_count": 69,
     "metadata": {},
     "output_type": "execute_result"
    }
   ],
   "execution_count": 69
  },
  {
   "cell_type": "markdown",
   "metadata": {},
   "source": [
    "2. Переведите колонку с датой `Date` в индекс"
   ]
  },
  {
   "cell_type": "markdown",
   "metadata": {},
   "source": [
    "<details>\n",
    "<summary>&#9658; Нажмите сюда, чтобы увидеть подсказку</summary>\n",
    "  <p>\n",
    "      \n",
    "Примените к датафрейму метод `set_index()`, подав в метод строку с названием колонки, которую нужно сделать индексом.\n",
    "      \n",
    "**Как использовать метод?** Например применим метод `some_method()` к датафрейму `df`:\n",
    "```python\n",
    "df = df.some_method('some_column')\n",
    "```\n",
    "Не забудьте сохранить результат применения метода в этот же датафрейм.\n",
    "</p>\n",
    "</details>"
   ]
  },
  {
   "cell_type": "code",
   "metadata": {
    "ExecuteTime": {
     "end_time": "2024-12-23T20:04:19.505292Z",
     "start_time": "2024-12-23T20:04:19.499901Z"
    }
   },
   "source": [
    "organic_ch = organic_ch.set_index('Date')\n",
    "\n",
    "\n"
   ],
   "outputs": [],
   "execution_count": 70
  },
  {
   "cell_type": "markdown",
   "metadata": {},
   "source": [
    "3. На получившихся данных посчитайте скользящее среднее с окном 4"
   ]
  },
  {
   "cell_type": "markdown",
   "metadata": {},
   "source": [
    "<details>\n",
    "<summary>&#9658; Нажмите сюда, чтобы увидеть подсказку</summary>\n",
    "  <p>\n",
    "      \n",
    "**Как посчитать скользящее среднее, с окном равным 4?** Используйте комбинацию методов: сначала метод `rolling()`, в котором задайте параметр `window` равным 4; а после него - метод `mean`.\n",
    "    \n",
    "**Как использовать комбинацию методов?** Например применим сначала метод `some_method_1()` к серии `series` и зададим параметр `parameter` равным 5, а после него - метод `some_method_2()`:\n",
    "```python\n",
    "series.some_method_1(parameter=5).some_method_2()\n",
    "```   \n",
    "</p>\n",
    "</details>"
   ]
  },
  {
   "cell_type": "code",
   "metadata": {
    "ExecuteTime": {
     "end_time": "2024-12-23T20:04:21.433772Z",
     "start_time": "2024-12-23T20:04:21.413666Z"
    }
   },
   "source": [
    "organic_ch['price_rolling'] = organic_ch['AveragePrice'].rolling(window=4).mean()\n",
    "organic_ch.head(5)"
   ],
   "outputs": [
    {
     "data": {
      "text/plain": [
       "            AveragePrice  Total Volume     4046      4225  4770  Total Bags  \\\n",
       "Date                                                                          \n",
       "2015-01-04          1.49      17723.17  1189.35  15628.27   0.0      905.55   \n",
       "2015-01-11          1.79      12915.74  1426.75  10900.10   0.0      588.89   \n",
       "2015-01-18          1.81      12499.87  1154.81  10830.61   0.0      514.45   \n",
       "2015-01-25          1.83      10951.51   711.63   9515.44   0.0      724.44   \n",
       "2015-02-01          1.52      14391.05  1363.35  11835.47   0.0     1192.23   \n",
       "\n",
       "            Small Bags  Large Bags  XLarge Bags     type  year   region  \\\n",
       "Date                                                                      \n",
       "2015-01-04      905.55         0.0          0.0  organic  2015  Chicago   \n",
       "2015-01-11      588.89         0.0          0.0  organic  2015  Chicago   \n",
       "2015-01-18      514.45         0.0          0.0  organic  2015  Chicago   \n",
       "2015-01-25      724.44         0.0          0.0  organic  2015  Chicago   \n",
       "2015-02-01     1192.23         0.0          0.0  organic  2015  Chicago   \n",
       "\n",
       "            price_rolling  \n",
       "Date                       \n",
       "2015-01-04            NaN  \n",
       "2015-01-11            NaN  \n",
       "2015-01-18            NaN  \n",
       "2015-01-25         1.7300  \n",
       "2015-02-01         1.7375  "
      ],
      "text/html": [
       "<div>\n",
       "<style scoped>\n",
       "    .dataframe tbody tr th:only-of-type {\n",
       "        vertical-align: middle;\n",
       "    }\n",
       "\n",
       "    .dataframe tbody tr th {\n",
       "        vertical-align: top;\n",
       "    }\n",
       "\n",
       "    .dataframe thead th {\n",
       "        text-align: right;\n",
       "    }\n",
       "</style>\n",
       "<table border=\"1\" class=\"dataframe\">\n",
       "  <thead>\n",
       "    <tr style=\"text-align: right;\">\n",
       "      <th></th>\n",
       "      <th>AveragePrice</th>\n",
       "      <th>Total Volume</th>\n",
       "      <th>4046</th>\n",
       "      <th>4225</th>\n",
       "      <th>4770</th>\n",
       "      <th>Total Bags</th>\n",
       "      <th>Small Bags</th>\n",
       "      <th>Large Bags</th>\n",
       "      <th>XLarge Bags</th>\n",
       "      <th>type</th>\n",
       "      <th>year</th>\n",
       "      <th>region</th>\n",
       "      <th>price_rolling</th>\n",
       "    </tr>\n",
       "    <tr>\n",
       "      <th>Date</th>\n",
       "      <th></th>\n",
       "      <th></th>\n",
       "      <th></th>\n",
       "      <th></th>\n",
       "      <th></th>\n",
       "      <th></th>\n",
       "      <th></th>\n",
       "      <th></th>\n",
       "      <th></th>\n",
       "      <th></th>\n",
       "      <th></th>\n",
       "      <th></th>\n",
       "      <th></th>\n",
       "    </tr>\n",
       "  </thead>\n",
       "  <tbody>\n",
       "    <tr>\n",
       "      <th>2015-01-04</th>\n",
       "      <td>1.49</td>\n",
       "      <td>17723.17</td>\n",
       "      <td>1189.35</td>\n",
       "      <td>15628.27</td>\n",
       "      <td>0.0</td>\n",
       "      <td>905.55</td>\n",
       "      <td>905.55</td>\n",
       "      <td>0.0</td>\n",
       "      <td>0.0</td>\n",
       "      <td>organic</td>\n",
       "      <td>2015</td>\n",
       "      <td>Chicago</td>\n",
       "      <td>NaN</td>\n",
       "    </tr>\n",
       "    <tr>\n",
       "      <th>2015-01-11</th>\n",
       "      <td>1.79</td>\n",
       "      <td>12915.74</td>\n",
       "      <td>1426.75</td>\n",
       "      <td>10900.10</td>\n",
       "      <td>0.0</td>\n",
       "      <td>588.89</td>\n",
       "      <td>588.89</td>\n",
       "      <td>0.0</td>\n",
       "      <td>0.0</td>\n",
       "      <td>organic</td>\n",
       "      <td>2015</td>\n",
       "      <td>Chicago</td>\n",
       "      <td>NaN</td>\n",
       "    </tr>\n",
       "    <tr>\n",
       "      <th>2015-01-18</th>\n",
       "      <td>1.81</td>\n",
       "      <td>12499.87</td>\n",
       "      <td>1154.81</td>\n",
       "      <td>10830.61</td>\n",
       "      <td>0.0</td>\n",
       "      <td>514.45</td>\n",
       "      <td>514.45</td>\n",
       "      <td>0.0</td>\n",
       "      <td>0.0</td>\n",
       "      <td>organic</td>\n",
       "      <td>2015</td>\n",
       "      <td>Chicago</td>\n",
       "      <td>NaN</td>\n",
       "    </tr>\n",
       "    <tr>\n",
       "      <th>2015-01-25</th>\n",
       "      <td>1.83</td>\n",
       "      <td>10951.51</td>\n",
       "      <td>711.63</td>\n",
       "      <td>9515.44</td>\n",
       "      <td>0.0</td>\n",
       "      <td>724.44</td>\n",
       "      <td>724.44</td>\n",
       "      <td>0.0</td>\n",
       "      <td>0.0</td>\n",
       "      <td>organic</td>\n",
       "      <td>2015</td>\n",
       "      <td>Chicago</td>\n",
       "      <td>1.7300</td>\n",
       "    </tr>\n",
       "    <tr>\n",
       "      <th>2015-02-01</th>\n",
       "      <td>1.52</td>\n",
       "      <td>14391.05</td>\n",
       "      <td>1363.35</td>\n",
       "      <td>11835.47</td>\n",
       "      <td>0.0</td>\n",
       "      <td>1192.23</td>\n",
       "      <td>1192.23</td>\n",
       "      <td>0.0</td>\n",
       "      <td>0.0</td>\n",
       "      <td>organic</td>\n",
       "      <td>2015</td>\n",
       "      <td>Chicago</td>\n",
       "      <td>1.7375</td>\n",
       "    </tr>\n",
       "  </tbody>\n",
       "</table>\n",
       "</div>"
      ]
     },
     "execution_count": 71,
     "metadata": {},
     "output_type": "execute_result"
    }
   ],
   "execution_count": 71
  },
  {
   "cell_type": "markdown",
   "metadata": {},
   "source": [
    "4. Получившиеся значения округлите до трех знаков после точки"
   ]
  },
  {
   "cell_type": "markdown",
   "metadata": {},
   "source": [
    "<details>\n",
    "<summary>&#9658; Нажмите сюда, чтобы увидеть подсказку</summary>\n",
    "  <p>\n",
    "\n",
    "Используйте метод `round()`. По умолчанию округление идет до целого числа. Чтобы задать нужное число знаков после точки, передайте в метод аргумент — целое число. Применим метод к серии `series`, задав округление до пяти знаков после точки:\n",
    "```python\n",
    "series.round(5)\n",
    "```\n",
    "</p>\n",
    "</details>"
   ]
  },
  {
   "cell_type": "code",
   "metadata": {
    "ExecuteTime": {
     "end_time": "2024-12-23T20:04:36.469901Z",
     "start_time": "2024-12-23T20:04:36.446676Z"
    }
   },
   "source": [
    "organic_ch['price_rolling'] = organic_ch['price_rolling'].round(3)\n",
    "organic_ch.head(5)\n",
    "\n"
   ],
   "outputs": [
    {
     "data": {
      "text/plain": [
       "            AveragePrice  Total Volume     4046      4225  4770  Total Bags  \\\n",
       "Date                                                                          \n",
       "2015-01-04          1.49      17723.17  1189.35  15628.27   0.0      905.55   \n",
       "2015-01-11          1.79      12915.74  1426.75  10900.10   0.0      588.89   \n",
       "2015-01-18          1.81      12499.87  1154.81  10830.61   0.0      514.45   \n",
       "2015-01-25          1.83      10951.51   711.63   9515.44   0.0      724.44   \n",
       "2015-02-01          1.52      14391.05  1363.35  11835.47   0.0     1192.23   \n",
       "\n",
       "            Small Bags  Large Bags  XLarge Bags     type  year   region  \\\n",
       "Date                                                                      \n",
       "2015-01-04      905.55         0.0          0.0  organic  2015  Chicago   \n",
       "2015-01-11      588.89         0.0          0.0  organic  2015  Chicago   \n",
       "2015-01-18      514.45         0.0          0.0  organic  2015  Chicago   \n",
       "2015-01-25      724.44         0.0          0.0  organic  2015  Chicago   \n",
       "2015-02-01     1192.23         0.0          0.0  organic  2015  Chicago   \n",
       "\n",
       "            price_rolling  \n",
       "Date                       \n",
       "2015-01-04            NaN  \n",
       "2015-01-11            NaN  \n",
       "2015-01-18            NaN  \n",
       "2015-01-25          1.730  \n",
       "2015-02-01          1.738  "
      ],
      "text/html": [
       "<div>\n",
       "<style scoped>\n",
       "    .dataframe tbody tr th:only-of-type {\n",
       "        vertical-align: middle;\n",
       "    }\n",
       "\n",
       "    .dataframe tbody tr th {\n",
       "        vertical-align: top;\n",
       "    }\n",
       "\n",
       "    .dataframe thead th {\n",
       "        text-align: right;\n",
       "    }\n",
       "</style>\n",
       "<table border=\"1\" class=\"dataframe\">\n",
       "  <thead>\n",
       "    <tr style=\"text-align: right;\">\n",
       "      <th></th>\n",
       "      <th>AveragePrice</th>\n",
       "      <th>Total Volume</th>\n",
       "      <th>4046</th>\n",
       "      <th>4225</th>\n",
       "      <th>4770</th>\n",
       "      <th>Total Bags</th>\n",
       "      <th>Small Bags</th>\n",
       "      <th>Large Bags</th>\n",
       "      <th>XLarge Bags</th>\n",
       "      <th>type</th>\n",
       "      <th>year</th>\n",
       "      <th>region</th>\n",
       "      <th>price_rolling</th>\n",
       "    </tr>\n",
       "    <tr>\n",
       "      <th>Date</th>\n",
       "      <th></th>\n",
       "      <th></th>\n",
       "      <th></th>\n",
       "      <th></th>\n",
       "      <th></th>\n",
       "      <th></th>\n",
       "      <th></th>\n",
       "      <th></th>\n",
       "      <th></th>\n",
       "      <th></th>\n",
       "      <th></th>\n",
       "      <th></th>\n",
       "      <th></th>\n",
       "    </tr>\n",
       "  </thead>\n",
       "  <tbody>\n",
       "    <tr>\n",
       "      <th>2015-01-04</th>\n",
       "      <td>1.49</td>\n",
       "      <td>17723.17</td>\n",
       "      <td>1189.35</td>\n",
       "      <td>15628.27</td>\n",
       "      <td>0.0</td>\n",
       "      <td>905.55</td>\n",
       "      <td>905.55</td>\n",
       "      <td>0.0</td>\n",
       "      <td>0.0</td>\n",
       "      <td>organic</td>\n",
       "      <td>2015</td>\n",
       "      <td>Chicago</td>\n",
       "      <td>NaN</td>\n",
       "    </tr>\n",
       "    <tr>\n",
       "      <th>2015-01-11</th>\n",
       "      <td>1.79</td>\n",
       "      <td>12915.74</td>\n",
       "      <td>1426.75</td>\n",
       "      <td>10900.10</td>\n",
       "      <td>0.0</td>\n",
       "      <td>588.89</td>\n",
       "      <td>588.89</td>\n",
       "      <td>0.0</td>\n",
       "      <td>0.0</td>\n",
       "      <td>organic</td>\n",
       "      <td>2015</td>\n",
       "      <td>Chicago</td>\n",
       "      <td>NaN</td>\n",
       "    </tr>\n",
       "    <tr>\n",
       "      <th>2015-01-18</th>\n",
       "      <td>1.81</td>\n",
       "      <td>12499.87</td>\n",
       "      <td>1154.81</td>\n",
       "      <td>10830.61</td>\n",
       "      <td>0.0</td>\n",
       "      <td>514.45</td>\n",
       "      <td>514.45</td>\n",
       "      <td>0.0</td>\n",
       "      <td>0.0</td>\n",
       "      <td>organic</td>\n",
       "      <td>2015</td>\n",
       "      <td>Chicago</td>\n",
       "      <td>NaN</td>\n",
       "    </tr>\n",
       "    <tr>\n",
       "      <th>2015-01-25</th>\n",
       "      <td>1.83</td>\n",
       "      <td>10951.51</td>\n",
       "      <td>711.63</td>\n",
       "      <td>9515.44</td>\n",
       "      <td>0.0</td>\n",
       "      <td>724.44</td>\n",
       "      <td>724.44</td>\n",
       "      <td>0.0</td>\n",
       "      <td>0.0</td>\n",
       "      <td>organic</td>\n",
       "      <td>2015</td>\n",
       "      <td>Chicago</td>\n",
       "      <td>1.730</td>\n",
       "    </tr>\n",
       "    <tr>\n",
       "      <th>2015-02-01</th>\n",
       "      <td>1.52</td>\n",
       "      <td>14391.05</td>\n",
       "      <td>1363.35</td>\n",
       "      <td>11835.47</td>\n",
       "      <td>0.0</td>\n",
       "      <td>1192.23</td>\n",
       "      <td>1192.23</td>\n",
       "      <td>0.0</td>\n",
       "      <td>0.0</td>\n",
       "      <td>organic</td>\n",
       "      <td>2015</td>\n",
       "      <td>Chicago</td>\n",
       "      <td>1.738</td>\n",
       "    </tr>\n",
       "  </tbody>\n",
       "</table>\n",
       "</div>"
      ]
     },
     "execution_count": 72,
     "metadata": {},
     "output_type": "execute_result"
    }
   ],
   "execution_count": 72
  },
  {
   "cell_type": "markdown",
   "metadata": {},
   "source": [
    "5. Импортируйте модуль `express` из библиотеки `plotly`"
   ]
  },
  {
   "cell_type": "markdown",
   "metadata": {},
   "source": [
    "<details>\n",
    "<summary>&#9658; Нажмите сюда, чтобы увидеть подсказку</summary>\n",
    "<p>\n",
    "      \n",
    "**Для импорта модуля из библиотеки напишите**\n",
    "\n",
    "```python\n",
    "import library.module as shortcut\n",
    "```\n",
    "где вместо `library` подставьте название библиотеки, вместо `module` — название модуля, а вместо `shortcut` — его общераспространённое сокращённое название\n",
    "</p>\n",
    "</details>"
   ]
  },
  {
   "cell_type": "code",
   "metadata": {
    "ExecuteTime": {
     "end_time": "2024-12-23T19:36:04.794557Z",
     "start_time": "2024-12-23T19:36:04.549571Z"
    }
   },
   "source": [
    "#!pip install plotly.express\n",
    "import plotly.express as px\n",
    "\n"
   ],
   "outputs": [],
   "execution_count": 52
  },
  {
   "cell_type": "markdown",
   "metadata": {},
   "source": [
    "6. На основе получившихся данных постройте интерактивный линейный график, используя функцию `line()` из модуля `express` библиотеки `plotly`"
   ]
  },
  {
   "cell_type": "markdown",
   "metadata": {},
   "source": [
    "<details>\n",
    "<summary>&#9658; Нажмите сюда, чтобы увидеть подсказку</summary>\n",
    "  <p>\n",
    "      \n",
    "Передайте в функцию `px.line()` округленные данные, получившиеся на 4 шаге выполнения.\n",
    "Пример синтаксиса:      \n",
    "\n",
    "```python\n",
    "px.line(some_data)\n",
    "```      \n",
    "</p>\n",
    "</details>"
   ]
  },
  {
   "cell_type": "code",
   "metadata": {
    "ExecuteTime": {
     "end_time": "2024-12-23T20:04:44.063901Z",
     "start_time": "2024-12-23T20:04:43.929881Z"
    }
   },
   "source": [
    "avocado_full_filter = organic_ch.reset_index()\n",
    "fig = px.line(avocado_full_filter, x='Date', y='price_rolling')\n",
    "fig.show()"
   ],
   "outputs": [
    {
     "data": {
      "application/vnd.plotly.v1+json": {
       "data": [
        {
         "hovertemplate": "Date=%{x}<br>price_rolling=%{y}<extra></extra>",
         "legendgroup": "",
         "line": {
          "color": "#636efa",
          "dash": "solid"
         },
         "marker": {
          "symbol": "circle"
         },
         "mode": "lines",
         "name": "",
         "orientation": "v",
         "showlegend": false,
         "x": [
          "2015-01-04T00:00:00",
          "2015-01-11T00:00:00",
          "2015-01-18T00:00:00",
          "2015-01-25T00:00:00",
          "2015-02-01T00:00:00",
          "2015-02-08T00:00:00",
          "2015-02-15T00:00:00",
          "2015-02-22T00:00:00",
          "2015-03-01T00:00:00",
          "2015-03-08T00:00:00",
          "2015-03-15T00:00:00",
          "2015-03-22T00:00:00",
          "2015-03-29T00:00:00",
          "2015-04-05T00:00:00",
          "2015-04-12T00:00:00",
          "2015-04-19T00:00:00",
          "2015-04-26T00:00:00",
          "2015-05-03T00:00:00",
          "2015-05-10T00:00:00",
          "2015-05-17T00:00:00",
          "2015-05-24T00:00:00",
          "2015-05-31T00:00:00",
          "2015-06-07T00:00:00",
          "2015-06-14T00:00:00",
          "2015-06-21T00:00:00",
          "2015-06-28T00:00:00",
          "2015-07-05T00:00:00",
          "2015-07-12T00:00:00",
          "2015-07-19T00:00:00",
          "2015-07-26T00:00:00",
          "2015-08-02T00:00:00",
          "2015-08-09T00:00:00",
          "2015-08-16T00:00:00",
          "2015-08-23T00:00:00",
          "2015-08-30T00:00:00",
          "2015-09-06T00:00:00",
          "2015-09-13T00:00:00",
          "2015-09-20T00:00:00",
          "2015-09-27T00:00:00",
          "2015-10-04T00:00:00",
          "2015-10-11T00:00:00",
          "2015-10-18T00:00:00",
          "2015-10-25T00:00:00",
          "2015-11-01T00:00:00",
          "2015-11-08T00:00:00",
          "2015-11-15T00:00:00",
          "2015-11-22T00:00:00",
          "2015-11-29T00:00:00",
          "2015-12-06T00:00:00",
          "2015-12-13T00:00:00",
          "2015-12-20T00:00:00",
          "2015-12-27T00:00:00",
          "2016-01-03T00:00:00",
          "2016-01-10T00:00:00",
          "2016-01-17T00:00:00",
          "2016-01-24T00:00:00",
          "2016-01-31T00:00:00",
          "2016-02-07T00:00:00",
          "2016-02-14T00:00:00",
          "2016-02-21T00:00:00",
          "2016-02-28T00:00:00",
          "2016-03-06T00:00:00",
          "2016-03-13T00:00:00",
          "2016-03-20T00:00:00",
          "2016-03-27T00:00:00",
          "2016-04-03T00:00:00",
          "2016-04-10T00:00:00",
          "2016-04-17T00:00:00",
          "2016-04-24T00:00:00",
          "2016-05-01T00:00:00",
          "2016-05-08T00:00:00",
          "2016-05-15T00:00:00",
          "2016-05-22T00:00:00",
          "2016-05-29T00:00:00",
          "2016-06-05T00:00:00",
          "2016-06-12T00:00:00",
          "2016-06-19T00:00:00",
          "2016-06-26T00:00:00",
          "2016-07-03T00:00:00",
          "2016-07-10T00:00:00",
          "2016-07-17T00:00:00",
          "2016-07-24T00:00:00",
          "2016-07-31T00:00:00",
          "2016-08-07T00:00:00",
          "2016-08-14T00:00:00",
          "2016-08-21T00:00:00",
          "2016-08-28T00:00:00",
          "2016-09-04T00:00:00",
          "2016-09-11T00:00:00",
          "2016-09-18T00:00:00",
          "2016-09-25T00:00:00",
          "2016-10-02T00:00:00",
          "2016-10-09T00:00:00",
          "2016-10-16T00:00:00",
          "2016-10-23T00:00:00",
          "2016-10-30T00:00:00",
          "2016-11-06T00:00:00",
          "2016-11-13T00:00:00",
          "2016-11-20T00:00:00",
          "2016-11-27T00:00:00",
          "2016-12-04T00:00:00",
          "2016-12-11T00:00:00",
          "2016-12-18T00:00:00",
          "2016-12-25T00:00:00",
          "2017-01-01T00:00:00",
          "2017-01-08T00:00:00",
          "2017-01-15T00:00:00",
          "2017-01-22T00:00:00",
          "2017-01-29T00:00:00",
          "2017-02-05T00:00:00",
          "2017-02-12T00:00:00",
          "2017-02-19T00:00:00",
          "2017-02-26T00:00:00",
          "2017-03-05T00:00:00",
          "2017-03-12T00:00:00",
          "2017-03-19T00:00:00",
          "2017-03-26T00:00:00",
          "2017-04-02T00:00:00",
          "2017-04-09T00:00:00",
          "2017-04-16T00:00:00",
          "2017-04-23T00:00:00",
          "2017-04-30T00:00:00",
          "2017-05-07T00:00:00",
          "2017-05-14T00:00:00",
          "2017-05-21T00:00:00",
          "2017-05-28T00:00:00",
          "2017-06-04T00:00:00",
          "2017-06-11T00:00:00",
          "2017-06-18T00:00:00",
          "2017-06-25T00:00:00",
          "2017-07-02T00:00:00",
          "2017-07-09T00:00:00",
          "2017-07-16T00:00:00",
          "2017-07-23T00:00:00",
          "2017-07-30T00:00:00",
          "2017-08-06T00:00:00",
          "2017-08-13T00:00:00",
          "2017-08-20T00:00:00",
          "2017-08-27T00:00:00",
          "2017-09-03T00:00:00",
          "2017-09-10T00:00:00",
          "2017-09-17T00:00:00",
          "2017-09-24T00:00:00",
          "2017-10-01T00:00:00",
          "2017-10-08T00:00:00",
          "2017-10-15T00:00:00",
          "2017-10-22T00:00:00",
          "2017-10-29T00:00:00",
          "2017-11-05T00:00:00",
          "2017-11-12T00:00:00",
          "2017-11-19T00:00:00",
          "2017-11-26T00:00:00",
          "2017-12-03T00:00:00",
          "2017-12-10T00:00:00",
          "2017-12-17T00:00:00",
          "2017-12-24T00:00:00",
          "2017-12-31T00:00:00",
          "2018-01-07T00:00:00",
          "2018-01-14T00:00:00",
          "2018-01-21T00:00:00",
          "2018-01-28T00:00:00",
          "2018-02-04T00:00:00",
          "2018-02-11T00:00:00",
          "2018-02-18T00:00:00",
          "2018-02-25T00:00:00",
          "2018-03-04T00:00:00",
          "2018-03-11T00:00:00",
          "2018-03-18T00:00:00",
          "2018-03-25T00:00:00"
         ],
         "xaxis": "x",
         "y": [
          null,
          null,
          null,
          1.73,
          1.738,
          1.735,
          1.735,
          1.735,
          1.81,
          1.77,
          1.728,
          1.688,
          1.648,
          1.655,
          1.57,
          1.54,
          1.502,
          1.468,
          1.51,
          1.515,
          1.602,
          1.688,
          1.782,
          1.858,
          1.848,
          1.805,
          1.76,
          1.708,
          1.665,
          1.65,
          1.63,
          1.62,
          1.613,
          1.61,
          1.612,
          1.61,
          1.608,
          1.605,
          1.622,
          1.665,
          1.685,
          1.732,
          1.718,
          1.672,
          1.648,
          1.595,
          1.585,
          1.582,
          1.583,
          1.585,
          1.588,
          1.585,
          1.592,
          1.6,
          1.585,
          1.595,
          1.592,
          1.588,
          1.602,
          1.585,
          1.582,
          1.555,
          1.535,
          1.522,
          1.498,
          1.54,
          1.585,
          1.598,
          1.63,
          1.618,
          1.602,
          1.618,
          1.542,
          1.41,
          1.315,
          1.295,
          1.345,
          1.525,
          1.59,
          1.71,
          1.8,
          1.832,
          1.985,
          2.015,
          2.065,
          2.102,
          2.098,
          2.085,
          2.08,
          2.075,
          2.065,
          2.057,
          2.05,
          2.062,
          2.1,
          2.145,
          2.195,
          2.23,
          2.255,
          2.272,
          2.14,
          1.907,
          1.668,
          1.428,
          1.335,
          1.458,
          1.585,
          1.628,
          1.67,
          1.59,
          1.51,
          1.533,
          1.578,
          1.615,
          1.715,
          1.735,
          1.73,
          1.805,
          1.81,
          1.825,
          1.825,
          1.832,
          1.832,
          1.88,
          1.947,
          1.938,
          1.935,
          1.942,
          1.953,
          1.965,
          1.975,
          1.982,
          1.945,
          1.92,
          1.9,
          1.838,
          1.802,
          1.76,
          1.812,
          1.89,
          1.958,
          2.062,
          2.015,
          1.962,
          1.922,
          1.865,
          1.91,
          1.965,
          2.002,
          2.042,
          1.965,
          1.882,
          1.832,
          1.73,
          1.63,
          1.65,
          1.66,
          1.705,
          1.805,
          1.808,
          1.79,
          1.738,
          1.702,
          1.662,
          1.652,
          1.652,
          1.655,
          1.655,
          1.658
         ],
         "yaxis": "y",
         "type": "scatter"
        }
       ],
       "layout": {
        "template": {
         "data": {
          "histogram2dcontour": [
           {
            "type": "histogram2dcontour",
            "colorbar": {
             "outlinewidth": 0,
             "ticks": ""
            },
            "colorscale": [
             [
              0.0,
              "#0d0887"
             ],
             [
              0.1111111111111111,
              "#46039f"
             ],
             [
              0.2222222222222222,
              "#7201a8"
             ],
             [
              0.3333333333333333,
              "#9c179e"
             ],
             [
              0.4444444444444444,
              "#bd3786"
             ],
             [
              0.5555555555555556,
              "#d8576b"
             ],
             [
              0.6666666666666666,
              "#ed7953"
             ],
             [
              0.7777777777777778,
              "#fb9f3a"
             ],
             [
              0.8888888888888888,
              "#fdca26"
             ],
             [
              1.0,
              "#f0f921"
             ]
            ]
           }
          ],
          "choropleth": [
           {
            "type": "choropleth",
            "colorbar": {
             "outlinewidth": 0,
             "ticks": ""
            }
           }
          ],
          "histogram2d": [
           {
            "type": "histogram2d",
            "colorbar": {
             "outlinewidth": 0,
             "ticks": ""
            },
            "colorscale": [
             [
              0.0,
              "#0d0887"
             ],
             [
              0.1111111111111111,
              "#46039f"
             ],
             [
              0.2222222222222222,
              "#7201a8"
             ],
             [
              0.3333333333333333,
              "#9c179e"
             ],
             [
              0.4444444444444444,
              "#bd3786"
             ],
             [
              0.5555555555555556,
              "#d8576b"
             ],
             [
              0.6666666666666666,
              "#ed7953"
             ],
             [
              0.7777777777777778,
              "#fb9f3a"
             ],
             [
              0.8888888888888888,
              "#fdca26"
             ],
             [
              1.0,
              "#f0f921"
             ]
            ]
           }
          ],
          "heatmap": [
           {
            "type": "heatmap",
            "colorbar": {
             "outlinewidth": 0,
             "ticks": ""
            },
            "colorscale": [
             [
              0.0,
              "#0d0887"
             ],
             [
              0.1111111111111111,
              "#46039f"
             ],
             [
              0.2222222222222222,
              "#7201a8"
             ],
             [
              0.3333333333333333,
              "#9c179e"
             ],
             [
              0.4444444444444444,
              "#bd3786"
             ],
             [
              0.5555555555555556,
              "#d8576b"
             ],
             [
              0.6666666666666666,
              "#ed7953"
             ],
             [
              0.7777777777777778,
              "#fb9f3a"
             ],
             [
              0.8888888888888888,
              "#fdca26"
             ],
             [
              1.0,
              "#f0f921"
             ]
            ]
           }
          ],
          "heatmapgl": [
           {
            "type": "heatmapgl",
            "colorbar": {
             "outlinewidth": 0,
             "ticks": ""
            },
            "colorscale": [
             [
              0.0,
              "#0d0887"
             ],
             [
              0.1111111111111111,
              "#46039f"
             ],
             [
              0.2222222222222222,
              "#7201a8"
             ],
             [
              0.3333333333333333,
              "#9c179e"
             ],
             [
              0.4444444444444444,
              "#bd3786"
             ],
             [
              0.5555555555555556,
              "#d8576b"
             ],
             [
              0.6666666666666666,
              "#ed7953"
             ],
             [
              0.7777777777777778,
              "#fb9f3a"
             ],
             [
              0.8888888888888888,
              "#fdca26"
             ],
             [
              1.0,
              "#f0f921"
             ]
            ]
           }
          ],
          "contourcarpet": [
           {
            "type": "contourcarpet",
            "colorbar": {
             "outlinewidth": 0,
             "ticks": ""
            }
           }
          ],
          "contour": [
           {
            "type": "contour",
            "colorbar": {
             "outlinewidth": 0,
             "ticks": ""
            },
            "colorscale": [
             [
              0.0,
              "#0d0887"
             ],
             [
              0.1111111111111111,
              "#46039f"
             ],
             [
              0.2222222222222222,
              "#7201a8"
             ],
             [
              0.3333333333333333,
              "#9c179e"
             ],
             [
              0.4444444444444444,
              "#bd3786"
             ],
             [
              0.5555555555555556,
              "#d8576b"
             ],
             [
              0.6666666666666666,
              "#ed7953"
             ],
             [
              0.7777777777777778,
              "#fb9f3a"
             ],
             [
              0.8888888888888888,
              "#fdca26"
             ],
             [
              1.0,
              "#f0f921"
             ]
            ]
           }
          ],
          "surface": [
           {
            "type": "surface",
            "colorbar": {
             "outlinewidth": 0,
             "ticks": ""
            },
            "colorscale": [
             [
              0.0,
              "#0d0887"
             ],
             [
              0.1111111111111111,
              "#46039f"
             ],
             [
              0.2222222222222222,
              "#7201a8"
             ],
             [
              0.3333333333333333,
              "#9c179e"
             ],
             [
              0.4444444444444444,
              "#bd3786"
             ],
             [
              0.5555555555555556,
              "#d8576b"
             ],
             [
              0.6666666666666666,
              "#ed7953"
             ],
             [
              0.7777777777777778,
              "#fb9f3a"
             ],
             [
              0.8888888888888888,
              "#fdca26"
             ],
             [
              1.0,
              "#f0f921"
             ]
            ]
           }
          ],
          "mesh3d": [
           {
            "type": "mesh3d",
            "colorbar": {
             "outlinewidth": 0,
             "ticks": ""
            }
           }
          ],
          "scatter": [
           {
            "fillpattern": {
             "fillmode": "overlay",
             "size": 10,
             "solidity": 0.2
            },
            "type": "scatter"
           }
          ],
          "parcoords": [
           {
            "type": "parcoords",
            "line": {
             "colorbar": {
              "outlinewidth": 0,
              "ticks": ""
             }
            }
           }
          ],
          "scatterpolargl": [
           {
            "type": "scatterpolargl",
            "marker": {
             "colorbar": {
              "outlinewidth": 0,
              "ticks": ""
             }
            }
           }
          ],
          "bar": [
           {
            "error_x": {
             "color": "#2a3f5f"
            },
            "error_y": {
             "color": "#2a3f5f"
            },
            "marker": {
             "line": {
              "color": "#E5ECF6",
              "width": 0.5
             },
             "pattern": {
              "fillmode": "overlay",
              "size": 10,
              "solidity": 0.2
             }
            },
            "type": "bar"
           }
          ],
          "scattergeo": [
           {
            "type": "scattergeo",
            "marker": {
             "colorbar": {
              "outlinewidth": 0,
              "ticks": ""
             }
            }
           }
          ],
          "scatterpolar": [
           {
            "type": "scatterpolar",
            "marker": {
             "colorbar": {
              "outlinewidth": 0,
              "ticks": ""
             }
            }
           }
          ],
          "histogram": [
           {
            "marker": {
             "pattern": {
              "fillmode": "overlay",
              "size": 10,
              "solidity": 0.2
             }
            },
            "type": "histogram"
           }
          ],
          "scattergl": [
           {
            "type": "scattergl",
            "marker": {
             "colorbar": {
              "outlinewidth": 0,
              "ticks": ""
             }
            }
           }
          ],
          "scatter3d": [
           {
            "type": "scatter3d",
            "line": {
             "colorbar": {
              "outlinewidth": 0,
              "ticks": ""
             }
            },
            "marker": {
             "colorbar": {
              "outlinewidth": 0,
              "ticks": ""
             }
            }
           }
          ],
          "scattermapbox": [
           {
            "type": "scattermapbox",
            "marker": {
             "colorbar": {
              "outlinewidth": 0,
              "ticks": ""
             }
            }
           }
          ],
          "scatterternary": [
           {
            "type": "scatterternary",
            "marker": {
             "colorbar": {
              "outlinewidth": 0,
              "ticks": ""
             }
            }
           }
          ],
          "scattercarpet": [
           {
            "type": "scattercarpet",
            "marker": {
             "colorbar": {
              "outlinewidth": 0,
              "ticks": ""
             }
            }
           }
          ],
          "carpet": [
           {
            "aaxis": {
             "endlinecolor": "#2a3f5f",
             "gridcolor": "white",
             "linecolor": "white",
             "minorgridcolor": "white",
             "startlinecolor": "#2a3f5f"
            },
            "baxis": {
             "endlinecolor": "#2a3f5f",
             "gridcolor": "white",
             "linecolor": "white",
             "minorgridcolor": "white",
             "startlinecolor": "#2a3f5f"
            },
            "type": "carpet"
           }
          ],
          "table": [
           {
            "cells": {
             "fill": {
              "color": "#EBF0F8"
             },
             "line": {
              "color": "white"
             }
            },
            "header": {
             "fill": {
              "color": "#C8D4E3"
             },
             "line": {
              "color": "white"
             }
            },
            "type": "table"
           }
          ],
          "barpolar": [
           {
            "marker": {
             "line": {
              "color": "#E5ECF6",
              "width": 0.5
             },
             "pattern": {
              "fillmode": "overlay",
              "size": 10,
              "solidity": 0.2
             }
            },
            "type": "barpolar"
           }
          ],
          "pie": [
           {
            "automargin": true,
            "type": "pie"
           }
          ]
         },
         "layout": {
          "autotypenumbers": "strict",
          "colorway": [
           "#636efa",
           "#EF553B",
           "#00cc96",
           "#ab63fa",
           "#FFA15A",
           "#19d3f3",
           "#FF6692",
           "#B6E880",
           "#FF97FF",
           "#FECB52"
          ],
          "font": {
           "color": "#2a3f5f"
          },
          "hovermode": "closest",
          "hoverlabel": {
           "align": "left"
          },
          "paper_bgcolor": "white",
          "plot_bgcolor": "#E5ECF6",
          "polar": {
           "bgcolor": "#E5ECF6",
           "angularaxis": {
            "gridcolor": "white",
            "linecolor": "white",
            "ticks": ""
           },
           "radialaxis": {
            "gridcolor": "white",
            "linecolor": "white",
            "ticks": ""
           }
          },
          "ternary": {
           "bgcolor": "#E5ECF6",
           "aaxis": {
            "gridcolor": "white",
            "linecolor": "white",
            "ticks": ""
           },
           "baxis": {
            "gridcolor": "white",
            "linecolor": "white",
            "ticks": ""
           },
           "caxis": {
            "gridcolor": "white",
            "linecolor": "white",
            "ticks": ""
           }
          },
          "coloraxis": {
           "colorbar": {
            "outlinewidth": 0,
            "ticks": ""
           }
          },
          "colorscale": {
           "sequential": [
            [
             0.0,
             "#0d0887"
            ],
            [
             0.1111111111111111,
             "#46039f"
            ],
            [
             0.2222222222222222,
             "#7201a8"
            ],
            [
             0.3333333333333333,
             "#9c179e"
            ],
            [
             0.4444444444444444,
             "#bd3786"
            ],
            [
             0.5555555555555556,
             "#d8576b"
            ],
            [
             0.6666666666666666,
             "#ed7953"
            ],
            [
             0.7777777777777778,
             "#fb9f3a"
            ],
            [
             0.8888888888888888,
             "#fdca26"
            ],
            [
             1.0,
             "#f0f921"
            ]
           ],
           "sequentialminus": [
            [
             0.0,
             "#0d0887"
            ],
            [
             0.1111111111111111,
             "#46039f"
            ],
            [
             0.2222222222222222,
             "#7201a8"
            ],
            [
             0.3333333333333333,
             "#9c179e"
            ],
            [
             0.4444444444444444,
             "#bd3786"
            ],
            [
             0.5555555555555556,
             "#d8576b"
            ],
            [
             0.6666666666666666,
             "#ed7953"
            ],
            [
             0.7777777777777778,
             "#fb9f3a"
            ],
            [
             0.8888888888888888,
             "#fdca26"
            ],
            [
             1.0,
             "#f0f921"
            ]
           ],
           "diverging": [
            [
             0,
             "#8e0152"
            ],
            [
             0.1,
             "#c51b7d"
            ],
            [
             0.2,
             "#de77ae"
            ],
            [
             0.3,
             "#f1b6da"
            ],
            [
             0.4,
             "#fde0ef"
            ],
            [
             0.5,
             "#f7f7f7"
            ],
            [
             0.6,
             "#e6f5d0"
            ],
            [
             0.7,
             "#b8e186"
            ],
            [
             0.8,
             "#7fbc41"
            ],
            [
             0.9,
             "#4d9221"
            ],
            [
             1,
             "#276419"
            ]
           ]
          },
          "xaxis": {
           "gridcolor": "white",
           "linecolor": "white",
           "ticks": "",
           "title": {
            "standoff": 15
           },
           "zerolinecolor": "white",
           "automargin": true,
           "zerolinewidth": 2
          },
          "yaxis": {
           "gridcolor": "white",
           "linecolor": "white",
           "ticks": "",
           "title": {
            "standoff": 15
           },
           "zerolinecolor": "white",
           "automargin": true,
           "zerolinewidth": 2
          },
          "scene": {
           "xaxis": {
            "backgroundcolor": "#E5ECF6",
            "gridcolor": "white",
            "linecolor": "white",
            "showbackground": true,
            "ticks": "",
            "zerolinecolor": "white",
            "gridwidth": 2
           },
           "yaxis": {
            "backgroundcolor": "#E5ECF6",
            "gridcolor": "white",
            "linecolor": "white",
            "showbackground": true,
            "ticks": "",
            "zerolinecolor": "white",
            "gridwidth": 2
           },
           "zaxis": {
            "backgroundcolor": "#E5ECF6",
            "gridcolor": "white",
            "linecolor": "white",
            "showbackground": true,
            "ticks": "",
            "zerolinecolor": "white",
            "gridwidth": 2
           }
          },
          "shapedefaults": {
           "line": {
            "color": "#2a3f5f"
           }
          },
          "annotationdefaults": {
           "arrowcolor": "#2a3f5f",
           "arrowhead": 0,
           "arrowwidth": 1
          },
          "geo": {
           "bgcolor": "white",
           "landcolor": "#E5ECF6",
           "subunitcolor": "white",
           "showland": true,
           "showlakes": true,
           "lakecolor": "white"
          },
          "title": {
           "x": 0.05
          },
          "mapbox": {
           "style": "light"
          }
         }
        },
        "xaxis": {
         "anchor": "y",
         "domain": [
          0.0,
          1.0
         ],
         "title": {
          "text": "Date"
         }
        },
        "yaxis": {
         "anchor": "x",
         "domain": [
          0.0,
          1.0
         ],
         "title": {
          "text": "price_rolling"
         }
        },
        "legend": {
         "tracegroupgap": 0
        },
        "margin": {
         "t": 60
        }
       },
       "config": {
        "plotlyServerURL": "https://plot.ly"
       }
      },
      "text/html": [
       "<div>                            <div id=\"23a462f2-f3ce-49c1-9f3c-f7253065468b\" class=\"plotly-graph-div\" style=\"height:525px; width:100%;\"></div>            <script type=\"text/javascript\">                require([\"plotly\"], function(Plotly) {                    window.PLOTLYENV=window.PLOTLYENV || {};                                    if (document.getElementById(\"23a462f2-f3ce-49c1-9f3c-f7253065468b\")) {                    Plotly.newPlot(                        \"23a462f2-f3ce-49c1-9f3c-f7253065468b\",                        [{\"hovertemplate\":\"Date=%{x}\\u003cbr\\u003eprice_rolling=%{y}\\u003cextra\\u003e\\u003c\\u002fextra\\u003e\",\"legendgroup\":\"\",\"line\":{\"color\":\"#636efa\",\"dash\":\"solid\"},\"marker\":{\"symbol\":\"circle\"},\"mode\":\"lines\",\"name\":\"\",\"orientation\":\"v\",\"showlegend\":false,\"x\":[\"2015-01-04T00:00:00\",\"2015-01-11T00:00:00\",\"2015-01-18T00:00:00\",\"2015-01-25T00:00:00\",\"2015-02-01T00:00:00\",\"2015-02-08T00:00:00\",\"2015-02-15T00:00:00\",\"2015-02-22T00:00:00\",\"2015-03-01T00:00:00\",\"2015-03-08T00:00:00\",\"2015-03-15T00:00:00\",\"2015-03-22T00:00:00\",\"2015-03-29T00:00:00\",\"2015-04-05T00:00:00\",\"2015-04-12T00:00:00\",\"2015-04-19T00:00:00\",\"2015-04-26T00:00:00\",\"2015-05-03T00:00:00\",\"2015-05-10T00:00:00\",\"2015-05-17T00:00:00\",\"2015-05-24T00:00:00\",\"2015-05-31T00:00:00\",\"2015-06-07T00:00:00\",\"2015-06-14T00:00:00\",\"2015-06-21T00:00:00\",\"2015-06-28T00:00:00\",\"2015-07-05T00:00:00\",\"2015-07-12T00:00:00\",\"2015-07-19T00:00:00\",\"2015-07-26T00:00:00\",\"2015-08-02T00:00:00\",\"2015-08-09T00:00:00\",\"2015-08-16T00:00:00\",\"2015-08-23T00:00:00\",\"2015-08-30T00:00:00\",\"2015-09-06T00:00:00\",\"2015-09-13T00:00:00\",\"2015-09-20T00:00:00\",\"2015-09-27T00:00:00\",\"2015-10-04T00:00:00\",\"2015-10-11T00:00:00\",\"2015-10-18T00:00:00\",\"2015-10-25T00:00:00\",\"2015-11-01T00:00:00\",\"2015-11-08T00:00:00\",\"2015-11-15T00:00:00\",\"2015-11-22T00:00:00\",\"2015-11-29T00:00:00\",\"2015-12-06T00:00:00\",\"2015-12-13T00:00:00\",\"2015-12-20T00:00:00\",\"2015-12-27T00:00:00\",\"2016-01-03T00:00:00\",\"2016-01-10T00:00:00\",\"2016-01-17T00:00:00\",\"2016-01-24T00:00:00\",\"2016-01-31T00:00:00\",\"2016-02-07T00:00:00\",\"2016-02-14T00:00:00\",\"2016-02-21T00:00:00\",\"2016-02-28T00:00:00\",\"2016-03-06T00:00:00\",\"2016-03-13T00:00:00\",\"2016-03-20T00:00:00\",\"2016-03-27T00:00:00\",\"2016-04-03T00:00:00\",\"2016-04-10T00:00:00\",\"2016-04-17T00:00:00\",\"2016-04-24T00:00:00\",\"2016-05-01T00:00:00\",\"2016-05-08T00:00:00\",\"2016-05-15T00:00:00\",\"2016-05-22T00:00:00\",\"2016-05-29T00:00:00\",\"2016-06-05T00:00:00\",\"2016-06-12T00:00:00\",\"2016-06-19T00:00:00\",\"2016-06-26T00:00:00\",\"2016-07-03T00:00:00\",\"2016-07-10T00:00:00\",\"2016-07-17T00:00:00\",\"2016-07-24T00:00:00\",\"2016-07-31T00:00:00\",\"2016-08-07T00:00:00\",\"2016-08-14T00:00:00\",\"2016-08-21T00:00:00\",\"2016-08-28T00:00:00\",\"2016-09-04T00:00:00\",\"2016-09-11T00:00:00\",\"2016-09-18T00:00:00\",\"2016-09-25T00:00:00\",\"2016-10-02T00:00:00\",\"2016-10-09T00:00:00\",\"2016-10-16T00:00:00\",\"2016-10-23T00:00:00\",\"2016-10-30T00:00:00\",\"2016-11-06T00:00:00\",\"2016-11-13T00:00:00\",\"2016-11-20T00:00:00\",\"2016-11-27T00:00:00\",\"2016-12-04T00:00:00\",\"2016-12-11T00:00:00\",\"2016-12-18T00:00:00\",\"2016-12-25T00:00:00\",\"2017-01-01T00:00:00\",\"2017-01-08T00:00:00\",\"2017-01-15T00:00:00\",\"2017-01-22T00:00:00\",\"2017-01-29T00:00:00\",\"2017-02-05T00:00:00\",\"2017-02-12T00:00:00\",\"2017-02-19T00:00:00\",\"2017-02-26T00:00:00\",\"2017-03-05T00:00:00\",\"2017-03-12T00:00:00\",\"2017-03-19T00:00:00\",\"2017-03-26T00:00:00\",\"2017-04-02T00:00:00\",\"2017-04-09T00:00:00\",\"2017-04-16T00:00:00\",\"2017-04-23T00:00:00\",\"2017-04-30T00:00:00\",\"2017-05-07T00:00:00\",\"2017-05-14T00:00:00\",\"2017-05-21T00:00:00\",\"2017-05-28T00:00:00\",\"2017-06-04T00:00:00\",\"2017-06-11T00:00:00\",\"2017-06-18T00:00:00\",\"2017-06-25T00:00:00\",\"2017-07-02T00:00:00\",\"2017-07-09T00:00:00\",\"2017-07-16T00:00:00\",\"2017-07-23T00:00:00\",\"2017-07-30T00:00:00\",\"2017-08-06T00:00:00\",\"2017-08-13T00:00:00\",\"2017-08-20T00:00:00\",\"2017-08-27T00:00:00\",\"2017-09-03T00:00:00\",\"2017-09-10T00:00:00\",\"2017-09-17T00:00:00\",\"2017-09-24T00:00:00\",\"2017-10-01T00:00:00\",\"2017-10-08T00:00:00\",\"2017-10-15T00:00:00\",\"2017-10-22T00:00:00\",\"2017-10-29T00:00:00\",\"2017-11-05T00:00:00\",\"2017-11-12T00:00:00\",\"2017-11-19T00:00:00\",\"2017-11-26T00:00:00\",\"2017-12-03T00:00:00\",\"2017-12-10T00:00:00\",\"2017-12-17T00:00:00\",\"2017-12-24T00:00:00\",\"2017-12-31T00:00:00\",\"2018-01-07T00:00:00\",\"2018-01-14T00:00:00\",\"2018-01-21T00:00:00\",\"2018-01-28T00:00:00\",\"2018-02-04T00:00:00\",\"2018-02-11T00:00:00\",\"2018-02-18T00:00:00\",\"2018-02-25T00:00:00\",\"2018-03-04T00:00:00\",\"2018-03-11T00:00:00\",\"2018-03-18T00:00:00\",\"2018-03-25T00:00:00\"],\"xaxis\":\"x\",\"y\":[null,null,null,1.73,1.738,1.735,1.735,1.735,1.81,1.77,1.728,1.688,1.648,1.655,1.57,1.54,1.502,1.468,1.51,1.515,1.602,1.688,1.782,1.858,1.848,1.805,1.76,1.708,1.665,1.65,1.63,1.62,1.613,1.61,1.612,1.61,1.608,1.605,1.622,1.665,1.685,1.732,1.718,1.672,1.648,1.595,1.585,1.582,1.583,1.585,1.588,1.585,1.592,1.6,1.585,1.595,1.592,1.588,1.602,1.585,1.582,1.555,1.535,1.522,1.498,1.54,1.585,1.598,1.63,1.618,1.602,1.618,1.542,1.41,1.315,1.295,1.345,1.525,1.59,1.71,1.8,1.832,1.985,2.015,2.065,2.102,2.098,2.085,2.08,2.075,2.065,2.057,2.05,2.062,2.1,2.145,2.195,2.23,2.255,2.272,2.14,1.907,1.668,1.428,1.335,1.458,1.585,1.628,1.67,1.59,1.51,1.533,1.578,1.615,1.715,1.735,1.73,1.805,1.81,1.825,1.825,1.832,1.832,1.88,1.947,1.938,1.935,1.942,1.953,1.965,1.975,1.982,1.945,1.92,1.9,1.838,1.802,1.76,1.812,1.89,1.958,2.062,2.015,1.962,1.922,1.865,1.91,1.965,2.002,2.042,1.965,1.882,1.832,1.73,1.63,1.65,1.66,1.705,1.805,1.808,1.79,1.738,1.702,1.662,1.652,1.652,1.655,1.655,1.658],\"yaxis\":\"y\",\"type\":\"scatter\"}],                        {\"template\":{\"data\":{\"histogram2dcontour\":[{\"type\":\"histogram2dcontour\",\"colorbar\":{\"outlinewidth\":0,\"ticks\":\"\"},\"colorscale\":[[0.0,\"#0d0887\"],[0.1111111111111111,\"#46039f\"],[0.2222222222222222,\"#7201a8\"],[0.3333333333333333,\"#9c179e\"],[0.4444444444444444,\"#bd3786\"],[0.5555555555555556,\"#d8576b\"],[0.6666666666666666,\"#ed7953\"],[0.7777777777777778,\"#fb9f3a\"],[0.8888888888888888,\"#fdca26\"],[1.0,\"#f0f921\"]]}],\"choropleth\":[{\"type\":\"choropleth\",\"colorbar\":{\"outlinewidth\":0,\"ticks\":\"\"}}],\"histogram2d\":[{\"type\":\"histogram2d\",\"colorbar\":{\"outlinewidth\":0,\"ticks\":\"\"},\"colorscale\":[[0.0,\"#0d0887\"],[0.1111111111111111,\"#46039f\"],[0.2222222222222222,\"#7201a8\"],[0.3333333333333333,\"#9c179e\"],[0.4444444444444444,\"#bd3786\"],[0.5555555555555556,\"#d8576b\"],[0.6666666666666666,\"#ed7953\"],[0.7777777777777778,\"#fb9f3a\"],[0.8888888888888888,\"#fdca26\"],[1.0,\"#f0f921\"]]}],\"heatmap\":[{\"type\":\"heatmap\",\"colorbar\":{\"outlinewidth\":0,\"ticks\":\"\"},\"colorscale\":[[0.0,\"#0d0887\"],[0.1111111111111111,\"#46039f\"],[0.2222222222222222,\"#7201a8\"],[0.3333333333333333,\"#9c179e\"],[0.4444444444444444,\"#bd3786\"],[0.5555555555555556,\"#d8576b\"],[0.6666666666666666,\"#ed7953\"],[0.7777777777777778,\"#fb9f3a\"],[0.8888888888888888,\"#fdca26\"],[1.0,\"#f0f921\"]]}],\"heatmapgl\":[{\"type\":\"heatmapgl\",\"colorbar\":{\"outlinewidth\":0,\"ticks\":\"\"},\"colorscale\":[[0.0,\"#0d0887\"],[0.1111111111111111,\"#46039f\"],[0.2222222222222222,\"#7201a8\"],[0.3333333333333333,\"#9c179e\"],[0.4444444444444444,\"#bd3786\"],[0.5555555555555556,\"#d8576b\"],[0.6666666666666666,\"#ed7953\"],[0.7777777777777778,\"#fb9f3a\"],[0.8888888888888888,\"#fdca26\"],[1.0,\"#f0f921\"]]}],\"contourcarpet\":[{\"type\":\"contourcarpet\",\"colorbar\":{\"outlinewidth\":0,\"ticks\":\"\"}}],\"contour\":[{\"type\":\"contour\",\"colorbar\":{\"outlinewidth\":0,\"ticks\":\"\"},\"colorscale\":[[0.0,\"#0d0887\"],[0.1111111111111111,\"#46039f\"],[0.2222222222222222,\"#7201a8\"],[0.3333333333333333,\"#9c179e\"],[0.4444444444444444,\"#bd3786\"],[0.5555555555555556,\"#d8576b\"],[0.6666666666666666,\"#ed7953\"],[0.7777777777777778,\"#fb9f3a\"],[0.8888888888888888,\"#fdca26\"],[1.0,\"#f0f921\"]]}],\"surface\":[{\"type\":\"surface\",\"colorbar\":{\"outlinewidth\":0,\"ticks\":\"\"},\"colorscale\":[[0.0,\"#0d0887\"],[0.1111111111111111,\"#46039f\"],[0.2222222222222222,\"#7201a8\"],[0.3333333333333333,\"#9c179e\"],[0.4444444444444444,\"#bd3786\"],[0.5555555555555556,\"#d8576b\"],[0.6666666666666666,\"#ed7953\"],[0.7777777777777778,\"#fb9f3a\"],[0.8888888888888888,\"#fdca26\"],[1.0,\"#f0f921\"]]}],\"mesh3d\":[{\"type\":\"mesh3d\",\"colorbar\":{\"outlinewidth\":0,\"ticks\":\"\"}}],\"scatter\":[{\"fillpattern\":{\"fillmode\":\"overlay\",\"size\":10,\"solidity\":0.2},\"type\":\"scatter\"}],\"parcoords\":[{\"type\":\"parcoords\",\"line\":{\"colorbar\":{\"outlinewidth\":0,\"ticks\":\"\"}}}],\"scatterpolargl\":[{\"type\":\"scatterpolargl\",\"marker\":{\"colorbar\":{\"outlinewidth\":0,\"ticks\":\"\"}}}],\"bar\":[{\"error_x\":{\"color\":\"#2a3f5f\"},\"error_y\":{\"color\":\"#2a3f5f\"},\"marker\":{\"line\":{\"color\":\"#E5ECF6\",\"width\":0.5},\"pattern\":{\"fillmode\":\"overlay\",\"size\":10,\"solidity\":0.2}},\"type\":\"bar\"}],\"scattergeo\":[{\"type\":\"scattergeo\",\"marker\":{\"colorbar\":{\"outlinewidth\":0,\"ticks\":\"\"}}}],\"scatterpolar\":[{\"type\":\"scatterpolar\",\"marker\":{\"colorbar\":{\"outlinewidth\":0,\"ticks\":\"\"}}}],\"histogram\":[{\"marker\":{\"pattern\":{\"fillmode\":\"overlay\",\"size\":10,\"solidity\":0.2}},\"type\":\"histogram\"}],\"scattergl\":[{\"type\":\"scattergl\",\"marker\":{\"colorbar\":{\"outlinewidth\":0,\"ticks\":\"\"}}}],\"scatter3d\":[{\"type\":\"scatter3d\",\"line\":{\"colorbar\":{\"outlinewidth\":0,\"ticks\":\"\"}},\"marker\":{\"colorbar\":{\"outlinewidth\":0,\"ticks\":\"\"}}}],\"scattermapbox\":[{\"type\":\"scattermapbox\",\"marker\":{\"colorbar\":{\"outlinewidth\":0,\"ticks\":\"\"}}}],\"scatterternary\":[{\"type\":\"scatterternary\",\"marker\":{\"colorbar\":{\"outlinewidth\":0,\"ticks\":\"\"}}}],\"scattercarpet\":[{\"type\":\"scattercarpet\",\"marker\":{\"colorbar\":{\"outlinewidth\":0,\"ticks\":\"\"}}}],\"carpet\":[{\"aaxis\":{\"endlinecolor\":\"#2a3f5f\",\"gridcolor\":\"white\",\"linecolor\":\"white\",\"minorgridcolor\":\"white\",\"startlinecolor\":\"#2a3f5f\"},\"baxis\":{\"endlinecolor\":\"#2a3f5f\",\"gridcolor\":\"white\",\"linecolor\":\"white\",\"minorgridcolor\":\"white\",\"startlinecolor\":\"#2a3f5f\"},\"type\":\"carpet\"}],\"table\":[{\"cells\":{\"fill\":{\"color\":\"#EBF0F8\"},\"line\":{\"color\":\"white\"}},\"header\":{\"fill\":{\"color\":\"#C8D4E3\"},\"line\":{\"color\":\"white\"}},\"type\":\"table\"}],\"barpolar\":[{\"marker\":{\"line\":{\"color\":\"#E5ECF6\",\"width\":0.5},\"pattern\":{\"fillmode\":\"overlay\",\"size\":10,\"solidity\":0.2}},\"type\":\"barpolar\"}],\"pie\":[{\"automargin\":true,\"type\":\"pie\"}]},\"layout\":{\"autotypenumbers\":\"strict\",\"colorway\":[\"#636efa\",\"#EF553B\",\"#00cc96\",\"#ab63fa\",\"#FFA15A\",\"#19d3f3\",\"#FF6692\",\"#B6E880\",\"#FF97FF\",\"#FECB52\"],\"font\":{\"color\":\"#2a3f5f\"},\"hovermode\":\"closest\",\"hoverlabel\":{\"align\":\"left\"},\"paper_bgcolor\":\"white\",\"plot_bgcolor\":\"#E5ECF6\",\"polar\":{\"bgcolor\":\"#E5ECF6\",\"angularaxis\":{\"gridcolor\":\"white\",\"linecolor\":\"white\",\"ticks\":\"\"},\"radialaxis\":{\"gridcolor\":\"white\",\"linecolor\":\"white\",\"ticks\":\"\"}},\"ternary\":{\"bgcolor\":\"#E5ECF6\",\"aaxis\":{\"gridcolor\":\"white\",\"linecolor\":\"white\",\"ticks\":\"\"},\"baxis\":{\"gridcolor\":\"white\",\"linecolor\":\"white\",\"ticks\":\"\"},\"caxis\":{\"gridcolor\":\"white\",\"linecolor\":\"white\",\"ticks\":\"\"}},\"coloraxis\":{\"colorbar\":{\"outlinewidth\":0,\"ticks\":\"\"}},\"colorscale\":{\"sequential\":[[0.0,\"#0d0887\"],[0.1111111111111111,\"#46039f\"],[0.2222222222222222,\"#7201a8\"],[0.3333333333333333,\"#9c179e\"],[0.4444444444444444,\"#bd3786\"],[0.5555555555555556,\"#d8576b\"],[0.6666666666666666,\"#ed7953\"],[0.7777777777777778,\"#fb9f3a\"],[0.8888888888888888,\"#fdca26\"],[1.0,\"#f0f921\"]],\"sequentialminus\":[[0.0,\"#0d0887\"],[0.1111111111111111,\"#46039f\"],[0.2222222222222222,\"#7201a8\"],[0.3333333333333333,\"#9c179e\"],[0.4444444444444444,\"#bd3786\"],[0.5555555555555556,\"#d8576b\"],[0.6666666666666666,\"#ed7953\"],[0.7777777777777778,\"#fb9f3a\"],[0.8888888888888888,\"#fdca26\"],[1.0,\"#f0f921\"]],\"diverging\":[[0,\"#8e0152\"],[0.1,\"#c51b7d\"],[0.2,\"#de77ae\"],[0.3,\"#f1b6da\"],[0.4,\"#fde0ef\"],[0.5,\"#f7f7f7\"],[0.6,\"#e6f5d0\"],[0.7,\"#b8e186\"],[0.8,\"#7fbc41\"],[0.9,\"#4d9221\"],[1,\"#276419\"]]},\"xaxis\":{\"gridcolor\":\"white\",\"linecolor\":\"white\",\"ticks\":\"\",\"title\":{\"standoff\":15},\"zerolinecolor\":\"white\",\"automargin\":true,\"zerolinewidth\":2},\"yaxis\":{\"gridcolor\":\"white\",\"linecolor\":\"white\",\"ticks\":\"\",\"title\":{\"standoff\":15},\"zerolinecolor\":\"white\",\"automargin\":true,\"zerolinewidth\":2},\"scene\":{\"xaxis\":{\"backgroundcolor\":\"#E5ECF6\",\"gridcolor\":\"white\",\"linecolor\":\"white\",\"showbackground\":true,\"ticks\":\"\",\"zerolinecolor\":\"white\",\"gridwidth\":2},\"yaxis\":{\"backgroundcolor\":\"#E5ECF6\",\"gridcolor\":\"white\",\"linecolor\":\"white\",\"showbackground\":true,\"ticks\":\"\",\"zerolinecolor\":\"white\",\"gridwidth\":2},\"zaxis\":{\"backgroundcolor\":\"#E5ECF6\",\"gridcolor\":\"white\",\"linecolor\":\"white\",\"showbackground\":true,\"ticks\":\"\",\"zerolinecolor\":\"white\",\"gridwidth\":2}},\"shapedefaults\":{\"line\":{\"color\":\"#2a3f5f\"}},\"annotationdefaults\":{\"arrowcolor\":\"#2a3f5f\",\"arrowhead\":0,\"arrowwidth\":1},\"geo\":{\"bgcolor\":\"white\",\"landcolor\":\"#E5ECF6\",\"subunitcolor\":\"white\",\"showland\":true,\"showlakes\":true,\"lakecolor\":\"white\"},\"title\":{\"x\":0.05},\"mapbox\":{\"style\":\"light\"}}},\"xaxis\":{\"anchor\":\"y\",\"domain\":[0.0,1.0],\"title\":{\"text\":\"Date\"}},\"yaxis\":{\"anchor\":\"x\",\"domain\":[0.0,1.0],\"title\":{\"text\":\"price_rolling\"}},\"legend\":{\"tracegroupgap\":0},\"margin\":{\"t\":60}},                        {\"responsive\": true}                    ).then(function(){\n",
       "                            \n",
       "var gd = document.getElementById('23a462f2-f3ce-49c1-9f3c-f7253065468b');\n",
       "var x = new MutationObserver(function (mutations, observer) {{\n",
       "        var display = window.getComputedStyle(gd).display;\n",
       "        if (!display || display === 'none') {{\n",
       "            console.log([gd, 'removed!']);\n",
       "            Plotly.purge(gd);\n",
       "            observer.disconnect();\n",
       "        }}\n",
       "}});\n",
       "\n",
       "// Listen for the removal of the full notebook cells\n",
       "var notebookContainer = gd.closest('#notebook-container');\n",
       "if (notebookContainer) {{\n",
       "    x.observe(notebookContainer, {childList: true});\n",
       "}}\n",
       "\n",
       "// Listen for the clearing of the current output cell\n",
       "var outputEl = gd.closest('.output');\n",
       "if (outputEl) {{\n",
       "    x.observe(outputEl, {childList: true});\n",
       "}}\n",
       "\n",
       "                        })                };                });            </script>        </div>"
      ]
     },
     "metadata": {},
     "output_type": "display_data"
    }
   ],
   "execution_count": 73
  },
  {
   "cell_type": "markdown",
   "metadata": {},
   "source": [
    "7. Найдите значения в заданные даты и заполните пропуски"
   ]
  },
  {
   "cell_type": "markdown",
   "metadata": {},
   "source": [
    "<details>\n",
    "<summary>&#9658; Нажмите сюда, чтобы увидеть подсказку</summary>\n",
    "  <p>\n",
    "      \n",
    "Наведите мышку на линию графика в нужную дату, в подписи посмотрите точное искомое значение     \n",
    "</p>\n",
    "</details>"
   ]
  },
  {
   "cell_type": "markdown",
   "metadata": {},
   "source": [
    "## Шаг 8"
   ]
  },
  {
   "cell_type": "markdown",
   "metadata": {},
   "source": [
    "Для ещё большего обобщения информации, чем подсчет скользящих значений, можно использовать разделение значений на группы, интервалы. **С помощью функции `cut()` из библиотеки `pandas` разбейте средние цены (см.колонку `AveragePrice` в датафрейме `organic_ch` с прошлого шага с записями только об органических авокадо в Чикаго) на две группы: те, что больше общего среднего значения по всем этим ценам и те, что не больше (то есть средняя цена будет меньше или равна общему среднему). Определите, каких цен больше.** Для этого:  \n",
    "1) Выведите описательную статистику для колонки со средним ценами и определите минимальное, среднее и максимальное значения.  \n",
    "2) Вместо минимального, возьмите значение, которое будет ниже минимального (насколько ниже — не важно).  \n",
    "3) Сохраните три значения (ниже минимального, среднее и максимальное) в таком же порядке в список `bins` (это будут три границы для двух групп цен (левая граница не включается в группу, а правая включается).  \n",
    "4) Запишите в список `labels` две строки с названиями групп в таком порядке: `меньше или равно среднему` и `больше среднего`.  \n",
    "5) Используя подготовленные списки `bins` и `labels`, с помощью функции `pd.cut()` разбейте значения в колонке `AveragePrice` датафрейма `organic_ch` на группы — и сохраните результат в новую колонку `AveragePrice_label` этого же датафрейма.  \n",
    "6) Посчитайте, каких значений цен больше: тех, что `меньше или равно среднему`, или тех, что `больше среднего`."
   ]
  },
  {
   "cell_type": "markdown",
   "metadata": {},
   "source": [
    "Шаги выполнения:  \n",
    "1. Выведите описательную статистику для колонки `AveragePrice` в датафрейме `organic_ch` и определите минимальное, среднее и максимальное значения  "
   ]
  },
  {
   "cell_type": "markdown",
   "metadata": {},
   "source": [
    "<details>\n",
    "<summary>&#9658; Нажмите сюда, чтобы увидеть подсказку</summary>\n",
    "  <p>\n",
    "      \n",
    "**Как получить описательную статистику?** Примените к колонке датафрейма метод `describe()`.\n",
    "      \n",
    "**Как использовать метод?** Например применим метод `some_method()` к колонке `col_name` датафрейма `df`:\n",
    "```python\n",
    "df.col_name.some_method()\n",
    "```\n",
    "</p>\n",
    "</details>"
   ]
  },
  {
   "metadata": {
    "ExecuteTime": {
     "end_time": "2024-12-23T20:13:28.224608Z",
     "start_time": "2024-12-23T20:13:28.215176Z"
    }
   },
   "cell_type": "code",
   "source": [
    "stats = organic_ch.AveragePrice.describe()\n",
    "min_ = stats['min']\n",
    "max_ = stats['max']\n",
    "mean_ = stats['mean'].round(2)\n",
    "print(f'Минимум: {min_}, Максимум: {max_}, Среднее: {mean_}')"
   ],
   "outputs": [
    {
     "name": "stdout",
     "output_type": "stream",
     "text": [
      "Минимум: 1.08, Максимум: 2.3, Среднее: 1.74\n"
     ]
    }
   ],
   "execution_count": 78
  },
  {
   "metadata": {},
   "cell_type": "markdown",
   "source": "2. Сохраните три значения (ниже минимального, среднее и максимальное) в таком же порядке в список `bins`"
  },
  {
   "cell_type": "markdown",
   "metadata": {},
   "source": [
    "<details>\n",
    "<summary>&#9658; Нажмите сюда, чтобы увидеть подсказку</summary>\n",
    "  <p>\n",
    "      \n",
    "**Как сохранить значения в список?** Например:\n",
    "```python\n",
    "new_list = [1, 'some_string']\n",
    "```\n",
    "Обратите внимание, что числа пишутся без кавычек, а строки - в кавычках\n",
    "</p>\n",
    "</details>"
   ]
  },
  {
   "cell_type": "code",
   "metadata": {
    "ExecuteTime": {
     "end_time": "2024-12-23T20:24:13.545351Z",
     "start_time": "2024-12-23T20:24:13.540354Z"
    }
   },
   "source": "bins = [min_, mean_, max_]",
   "outputs": [],
   "execution_count": 90
  },
  {
   "cell_type": "markdown",
   "metadata": {},
   "source": [
    "3. Запишите в список `labels` две строки с названиями групп в таком порядке: `меньше или равно среднему` (можно назвать `less than or equal to average`) и `больше среднего` (можно назвать `more than average`)"
   ]
  },
  {
   "cell_type": "markdown",
   "metadata": {},
   "source": [
    "<details>\n",
    "<summary>&#9658; Нажмите сюда, чтобы увидеть подсказку</summary>\n",
    "  <p>\n",
    "      \n",
    "**Как сохранить значения в список?** Например:\n",
    "```python\n",
    "new_list = [1, 'some_string']\n",
    "```\n",
    "Обратите внимание, что числа пишутся без кавычек, а строки - в кавычках\n",
    "</p>\n",
    "</details>"
   ]
  },
  {
   "cell_type": "code",
   "metadata": {
    "ExecuteTime": {
     "end_time": "2024-12-23T20:22:09.730195Z",
     "start_time": "2024-12-23T20:22:09.725086Z"
    }
   },
   "source": "labels = ['less than or equal to average', 'more than average']",
   "outputs": [],
   "execution_count": 83
  },
  {
   "cell_type": "markdown",
   "metadata": {},
   "source": [
    "4. С помощью функции `pd.cut()` разбейте значения средних цен на группы. В функцию подайте колонку `AveragePrice` датафрейма `organic_ch`, а также задайте параметры `bins` и `labels`, используя соответствующие списки. Сохраните результат в новую колонку `AveragePrice_label` этого же датафрейма"
   ]
  },
  {
   "cell_type": "markdown",
   "metadata": {},
   "source": [
    "<details>\n",
    "<summary>&#9658; Нажмите сюда, чтобы увидеть подсказку</summary>\n",
    "  <p>\n",
    "      \n",
    "Передайте в функцию `pd.cut()` колонку `AveragePrice` датафрейма `organic_ch` и задайте параметр `bins` равным списку `bins`, а параметр `labels` равным списку `labels`. Результат сохраните в новую колонку `AveragePrice_label` этого же датафрейма.\n",
    "      \n",
    "Пример синтаксиса:      \n",
    "\n",
    "```python\n",
    "df['new_col'] = pd.some_function(df.col_name, some_parameter=some_list)\n",
    "```      \n",
    "</p>\n",
    "</details>"
   ]
  },
  {
   "cell_type": "code",
   "metadata": {
    "ExecuteTime": {
     "end_time": "2024-12-23T20:24:16.401922Z",
     "start_time": "2024-12-23T20:24:16.393055Z"
    }
   },
   "source": "organic_ch['AveragePrice_label'] = pd.cut(organic_ch['AveragePrice'], bins=bins, labels=labels)",
   "outputs": [],
   "execution_count": 91
  },
  {
   "cell_type": "markdown",
   "metadata": {},
   "source": [
    "5. Посчитайте количество записей, относящихся к каждой из двух получившихся в колонке `AveragePrice_label` групп"
   ]
  },
  {
   "cell_type": "markdown",
   "metadata": {},
   "source": [
    "<details>\n",
    "<summary>&#9658; Нажмите сюда, чтобы увидеть подсказку</summary>\n",
    "  <p>\n",
    "\n",
    "**Используйте метод `value_counts()`**, применив его к столбцу `AveragePrice_label` датафрейма `organic_ch`. Этот метод возвращает серию, где индексы — это уникальные значения из столбца, а значения — это число их встречаний (количество строк с таким значением).\n",
    "      \n",
    "**Как использовать метод?** Например применим метод `some_method()` к колонке `column_name` датафрейма `df`:\n",
    "```python\n",
    "df.column_name.some_method()\n",
    "```\n",
    "</p>\n",
    "</details>"
   ]
  },
  {
   "cell_type": "code",
   "metadata": {
    "ExecuteTime": {
     "end_time": "2024-12-23T20:24:18.397137Z",
     "start_time": "2024-12-23T20:24:18.389647Z"
    }
   },
   "source": [
    "organic_ch_counts = organic_ch['AveragePrice_label'].value_counts()\n",
    "print(organic_ch_counts)"
   ],
   "outputs": [
    {
     "name": "stdout",
     "output_type": "stream",
     "text": [
      "AveragePrice_label\n",
      "less than or equal to average    94\n",
      "more than average                74\n",
      "Name: count, dtype: int64\n"
     ]
    }
   ],
   "execution_count": 92
  },
  {
   "cell_type": "markdown",
   "metadata": {},
   "source": [
    "6. Посмотрите на результат подсчета и определите, каких значений цен (записей) больше: тех, что `меньше или равно среднему`, или тех, что `больше среднего`"
   ]
  },
  {
   "cell_type": "markdown",
   "metadata": {},
   "source": [
    "## Итоги"
   ]
  },
  {
   "cell_type": "markdown",
   "metadata": {},
   "source": [
    "В этом уроке вы исследовали тренды цен на авокадо и проанализировали средние значения, используя оконные функции (скользящее среднее и экспоненциальное скользящее среднее) и интерактивные графики, а также потренировались преобразовывать числовую переменную в категориальную, чтобы поделить значения на группы"
   ]
  }
 ],
 "metadata": {
  "kernelspec": {
   "display_name": "Python 3",
   "language": "python",
   "name": "python3"
  },
  "language_info": {
   "codemirror_mode": {
    "name": "ipython",
    "version": 3
   },
   "file_extension": ".py",
   "mimetype": "text/x-python",
   "name": "python",
   "nbconvert_exporter": "python",
   "pygments_lexer": "ipython3",
   "version": "3.7.3"
  }
 },
 "nbformat": 4,
 "nbformat_minor": 4
}
